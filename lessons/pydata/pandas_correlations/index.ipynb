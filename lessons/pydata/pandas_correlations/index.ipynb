{
 "cells": [
  {
   "cell_type": "markdown",
   "metadata": {},
   "source": [
    "# Pandas - spojování tabulek a vztahy mezi proměnnými\n",
    "\n",
    "Tato lekce se nese ve znamení mnohosti a propojování - naučíš se:\n",
    "\n",
    "- pracovat s více tabulkami najednou\n",
    "- nacházet spojitosti mezi dvěma (a více) proměnnými"
   ]
  },
  {
   "cell_type": "code",
   "execution_count": 1,
   "metadata": {},
   "outputs": [],
   "source": [
    "import pandas as pd"
   ]
  },
  {
   "cell_type": "markdown",
   "metadata": {},
   "source": [
    "## Spojování tabulek\n",
    "\n",
    "V lekci, kde jsme zpracovávali data o počasí, jsme ti ukázali, že je pomocí funkce `concat` možné slepit dohromady několik objektů `DataFrame` či `Series`, pokud mají \"kompatibilní\" index. Nyní se na problematiku podíváme trochu blíže a ukážeme si, jak spojovat tabulky na základě různých sloupců, a co dělat, když řádky z tabulky jedné nepasují přesně na tabulku druhou.\n",
    "\n",
    "Obecně pro spojování `pandas` nabízí čtyři funkce / metody:\n",
    "\n",
    "- Funkce `concat`\n",
    "- Metoda `append`\n",
    "- Funkce `merge`\n",
    "- Metoda `join`\n",
    "\n",
    "Detailní rozbor toho, co která umí, najdeš v [dokumentaci](https://pandas.pydata.org/pandas-docs/stable/user_guide/merging.html)."
   ]
  },
  {
   "cell_type": "markdown",
   "metadata": {},
   "source": [
    "### Příprava dat\n",
    "\n",
    "Data pro dnešní hodinu (ze světa filmu) jsou veliká. Úmyslně veliká. Jsou tak veliká, že ti je nemůžeme naservírovat na stříbrném podnose (leda bys sebou takový podnos měl/a a na něm ležela flashka, na kterou ti je můžeme nahrát). Nabízí se dvě možnosti, jak je můžeš získat:\n",
    "\n",
    "**Alternativa 1.** Stáhni si manuálně do aktuálního adresáře následující soubory:\n",
    "\n",
    "- https://datasets.imdbws.com/title.basics.tsv.gz\n",
    "- https://datasets.imdbws.com/title.ratings.tsv.gz\n",
    "- https://github.com/coobas/pycon-cz-2019-workshop/raw/master/data/rotten_tomatoes_top_movies_2019-01-15.csv\n",
    "- https://github.com/coobas/pycon-cz-2019-workshop/raw/master/data/boxoffice_march_2019.csv.gz\n",
    "\n",
    "**Alternativa 2:** Pusť si (ideálně ještě doma, před hodinou) následující kód, který stáhne všechny potřebné soubory. Navíc to učiní pouze jednou, opětovné volání už nic dalšího nestahuje.\n",
    "\n",
    "<div style=\"color: red; background: yellow\">Vyřešit, odkud budeme data brát, jsou to stovky MB a navíc není jasné, jak moc legální je mít je lokálně uložená.</div>"
   ]
  },
  {
   "cell_type": "code",
   "execution_count": 2,
   "metadata": {},
   "outputs": [
    {
     "name": "stdout",
     "output_type": "stream",
     "text": [
      "Soubor title.basics.tsv.gz už byl stažen, použijeme místní kopii.\n",
      "Soubor title.ratings.tsv.gz už byl stažen, použijeme místní kopii.\n",
      "Soubor rotten_tomatoes_top_movies_2019-01-15.csv už byl stažen, použijeme místní kopii.\n",
      "Soubor boxoffice_march_2019.csv.gz už byl stažen, použijeme místní kopii.\n"
     ]
    }
   ],
   "source": [
    "# Nutné importy ze standardní knihovny\n",
    "import os\n",
    "from urllib.request import urlopen\n",
    "\n",
    "# Seznam souborů (viz níže)\n",
    "zdroje = [\n",
    "    \"https://datasets.imdbws.com/title.basics.tsv.gz\",\n",
    "    \"https://datasets.imdbws.com/title.ratings.tsv.gz\",\n",
    "    \"https://github.com/coobas/pycon-cz-2019-workshop/raw/master/data/rotten_tomatoes_top_movies_2019-01-15.csv\",\n",
    "    \"https://github.com/coobas/pycon-cz-2019-workshop/raw/master/data/boxoffice_march_2019.csv.gz\"\n",
    "]\n",
    "\n",
    "for url in zdroje:\n",
    "    # Pouze poslední část cesty adresy datového zdroje je jeho jméno\n",
    "    jmeno = url.rsplit(\"/\")[-1]\n",
    "    \n",
    "    if not os.path.exists(jmeno):        \n",
    "        print(f\"Soubor {jmeno} ještě není stažen, jdeme na to...\")\n",
    "        \n",
    "        # Sendvičově otevřeme výstup (soubor na disku) i vstup (webovou stránku)\n",
    "        with open(jmeno, \"wb\") as outfile:  # Pozor - binární mód\n",
    "            with urlopen(url) as inpage:\n",
    "                # A jen přepíšeme obsah \n",
    "                outfile.write(inpage.read())\n",
    "        print(f\"Soubor {jmeno} úspěšně stažen.\")\n",
    "    else:\n",
    "        print(f\"Soubor {jmeno} už byl stažen, použijeme místní kopii.\")"
   ]
  },
  {
   "cell_type": "markdown",
   "metadata": {},
   "source": [
    "Máme staženo několik souborů"
   ]
  },
  {
   "cell_type": "code",
   "execution_count": 3,
   "metadata": {},
   "outputs": [
    {
     "name": "stderr",
     "output_type": "stream",
     "text": [
      "C:\\Users\\janpi\\Miniconda3\\lib\\site-packages\\IPython\\core\\interactiveshell.py:3051: DtypeWarning: Columns (7) have mixed types. Specify dtype option on import or set low_memory=False.\n",
      "  interactivity=interactivity, compiler=compiler, result=result)\n"
     ]
    }
   ],
   "source": [
    "imdb_titles = pd.read_csv('title.basics.tsv.gz', sep='\\t', na_values=\"\\\\N\")\n",
    "imdb_ratings = pd.read_csv('title.ratings.tsv.gz', sep='\\t', na_values=\"\\\\N\")\n",
    "# boxoffice = pd.read_csv('../data/boxoffice_march_2019.csv.gz')\n",
    "rotten_tomatoes = pd.read_csv(\"rotten_tomatoes_top_movies_2019-01-15.csv\")\n",
    "# awards = pd.read_sql(\"awards\", con='sqlite:///../data/awards.sqlite')"
   ]
  },
  {
   "cell_type": "code",
   "execution_count": 4,
   "metadata": {},
   "outputs": [],
   "source": [
    "imdb_titles[\"title_type\"] = imdb_titles[\"titleType\"].astype(\"category\")\n",
    "imdb_titles.loc[imdb_titles.isAdult > 1, 'isAdult'] = 0\n",
    "imdb_titles = imdb_titles.dropna(subset=[\"startYear\"])\n",
    "imdb_titles[\"runtimeMinutes\"] = pd.to_numeric(imdb_titles.runtimeMinutes, errors=\"coerce\").astype(\"Int64\")\n",
    "\n",
    "movie_titles = imdb_titles[imdb_titles.titleType.isin([\"movie\", \"tvMovie\"])]\n",
    "movie_titles = movie_titles.drop(columns=[\"titleType\", \"endYear\"]).dropna()"
   ]
  },
  {
   "cell_type": "code",
   "execution_count": 5,
   "metadata": {},
   "outputs": [],
   "source": [
    "### Řazení pod sebe"
   ]
  },
  {
   "cell_type": "code",
   "execution_count": 6,
   "metadata": {},
   "outputs": [],
   "source": [
    "a = pd.Series([1, 2, 3])\n",
    "b = pd.Series([4, 5, 6])"
   ]
  },
  {
   "cell_type": "code",
   "execution_count": 7,
   "metadata": {},
   "outputs": [
    {
     "data": {
      "text/plain": [
       "0    1\n",
       "1    2\n",
       "2    3\n",
       "0    4\n",
       "1    5\n",
       "2    6\n",
       "dtype: int64"
      ]
     },
     "execution_count": 7,
     "metadata": {},
     "output_type": "execute_result"
    }
   ],
   "source": [
    "a.append(b)"
   ]
  },
  {
   "cell_type": "code",
   "execution_count": 8,
   "metadata": {},
   "outputs": [
    {
     "data": {
      "text/plain": [
       "0    1\n",
       "1    2\n",
       "2    3\n",
       "0    4\n",
       "1    5\n",
       "2    6\n",
       "dtype: int64"
      ]
     },
     "execution_count": 8,
     "metadata": {},
     "output_type": "execute_result"
    }
   ],
   "source": [
    "pd.concat([a, b])"
   ]
  },
  {
   "cell_type": "code",
   "execution_count": 9,
   "metadata": {},
   "outputs": [
    {
     "data": {
      "text/html": [
       "<div>\n",
       "<style scoped>\n",
       "    .dataframe tbody tr th:only-of-type {\n",
       "        vertical-align: middle;\n",
       "    }\n",
       "\n",
       "    .dataframe tbody tr th {\n",
       "        vertical-align: top;\n",
       "    }\n",
       "\n",
       "    .dataframe thead th {\n",
       "        text-align: right;\n",
       "    }\n",
       "</style>\n",
       "<table border=\"1\" class=\"dataframe\">\n",
       "  <thead>\n",
       "    <tr style=\"text-align: right;\">\n",
       "      <th></th>\n",
       "      <th>0</th>\n",
       "      <th>1</th>\n",
       "    </tr>\n",
       "  </thead>\n",
       "  <tbody>\n",
       "    <tr>\n",
       "      <td>0</td>\n",
       "      <td>1</td>\n",
       "      <td>4</td>\n",
       "    </tr>\n",
       "    <tr>\n",
       "      <td>1</td>\n",
       "      <td>2</td>\n",
       "      <td>5</td>\n",
       "    </tr>\n",
       "    <tr>\n",
       "      <td>2</td>\n",
       "      <td>3</td>\n",
       "      <td>6</td>\n",
       "    </tr>\n",
       "  </tbody>\n",
       "</table>\n",
       "</div>"
      ],
      "text/plain": [
       "   0  1\n",
       "0  1  4\n",
       "1  2  5\n",
       "2  3  6"
      ]
     },
     "execution_count": 9,
     "metadata": {},
     "output_type": "execute_result"
    }
   ],
   "source": [
    "pd.concat([a, b], axis=1)"
   ]
  },
  {
   "cell_type": "code",
   "execution_count": 10,
   "metadata": {},
   "outputs": [],
   "source": [
    "movies_rated = movie_titles.merge(imdb_ratings, on='tconst', how='inner')"
   ]
  },
  {
   "cell_type": "code",
   "execution_count": 11,
   "metadata": {},
   "outputs": [],
   "source": [
    "rotten_tomatoes[\"year\"] = rotten_tomatoes[\"Title\"].str.slice(___, ___)\n",
    "rotten_tomatoes[\"Title\"] = rotten_tomatoes[\"Title\"].str.slice_replace(___, ___, ___)"
   ]
  },
  {
   "cell_type": "code",
   "execution_count": null,
   "metadata": {},
   "outputs": [],
   "source": []
  },
  {
   "cell_type": "code",
   "execution_count": 12,
   "metadata": {},
   "outputs": [],
   "source": [
    "import pandas as pd\n",
    "import matplotlib.pyplot as plt\n",
    "import seaborn as sns\n",
    "\n",
    "%matplotlib inline"
   ]
  },
  {
   "cell_type": "markdown",
   "metadata": {},
   "source": [
    "## Vztahy mezi dvěma proměnnými\n",
    "\n",
    "Když jsme studovali vlastnosti zemí světa, věnovali jsme se především jednotlivým charakteristikám zvlášť, nanejvýš pak jsme si udělali intuitivní obrázek z bodového grafu (\"scatter plot\"), kde osy *x* a *y* patřily dvěma různým vlastnostem. Nyní se vztahy mezi více proměnnými budeme zabývat rigorózně a ukážeme si i některé odvážnější vizualizace."
   ]
  },
  {
   "cell_type": "code",
   "execution_count": null,
   "metadata": {},
   "outputs": [],
   "source": []
  },
  {
   "cell_type": "code",
   "execution_count": 13,
   "metadata": {},
   "outputs": [
    {
     "ename": "NameError",
     "evalue": "name 'iris' is not defined",
     "output_type": "error",
     "traceback": [
      "\u001b[1;31m---------------------------------------------------------------------------\u001b[0m",
      "\u001b[1;31mNameError\u001b[0m                                 Traceback (most recent call last)",
      "\u001b[1;32m<ipython-input-13-302f48cbe662>\u001b[0m in \u001b[0;36m<module>\u001b[1;34m\u001b[0m\n\u001b[0;32m      1\u001b[0m sns.scatterplot(\n\u001b[1;32m----> 2\u001b[1;33m     \u001b[0mdata\u001b[0m\u001b[1;33m=\u001b[0m\u001b[0miris\u001b[0m\u001b[1;33m,\u001b[0m\u001b[1;33m\u001b[0m\u001b[1;33m\u001b[0m\u001b[0m\n\u001b[0m\u001b[0;32m      3\u001b[0m     \u001b[0mx\u001b[0m\u001b[1;33m=\u001b[0m\u001b[1;34m\"sepal_length\"\u001b[0m\u001b[1;33m,\u001b[0m\u001b[1;33m\u001b[0m\u001b[1;33m\u001b[0m\u001b[0m\n\u001b[0;32m      4\u001b[0m     \u001b[0my\u001b[0m\u001b[1;33m=\u001b[0m\u001b[1;34m\"sepal_width\"\u001b[0m\u001b[1;33m,\u001b[0m\u001b[1;33m\u001b[0m\u001b[1;33m\u001b[0m\u001b[0m\n\u001b[0;32m      5\u001b[0m     \u001b[0mpalette\u001b[0m\u001b[1;33m=\u001b[0m\u001b[0msns\u001b[0m\u001b[1;33m.\u001b[0m\u001b[0mpalettes\u001b[0m\u001b[1;33m.\u001b[0m\u001b[0mcolor_palette\u001b[0m\u001b[1;33m(\u001b[0m\u001b[1;34m\"bright6\"\u001b[0m\u001b[1;33m,\u001b[0m \u001b[1;36m3\u001b[0m\u001b[1;33m)\u001b[0m\u001b[1;33m,\u001b[0m\u001b[1;33m\u001b[0m\u001b[1;33m\u001b[0m\u001b[0m\n",
      "\u001b[1;31mNameError\u001b[0m: name 'iris' is not defined"
     ]
    }
   ],
   "source": [
    "sns.scatterplot(\n",
    "    data=iris,\n",
    "    x=\"sepal_length\",\n",
    "    y=\"sepal_width\",\n",
    "    palette=sns.palettes.color_palette(\"bright6\", 3),\n",
    "    hue=\"species_id\"\n",
    ")"
   ]
  },
  {
   "cell_type": "markdown",
   "metadata": {},
   "source": [
    "### Korelace\n",
    "\n",
    "- všeobecný význam\n",
    "- statistický význam"
   ]
  },
  {
   "cell_type": "code",
   "execution_count": null,
   "metadata": {},
   "outputs": [],
   "source": [
    "iris[\"sepal_width\"].corr(iris[\"sepal_length\"])"
   ]
  },
  {
   "cell_type": "code",
   "execution_count": null,
   "metadata": {},
   "outputs": [],
   "source": [
    "iris.drop(\"species_id\", axis=1).corr()"
   ]
  },
  {
   "cell_type": "code",
   "execution_count": null,
   "metadata": {},
   "outputs": [],
   "source": [
    "iris.groupby(\"species_id\").corr()"
   ]
  },
  {
   "cell_type": "markdown",
   "metadata": {},
   "source": [
    "Záludnost souhrnných statistik názorně ukazuje tzv. **[Anscombeho kvartet](https://en.wikipedia.org/wiki/Anscombe%27s_quartet)**, čtveřice naprosto odlišných datových sad, které všechny sdílejí stejné hodnoty základních statistik (s jistou přesností):"
   ]
  },
  {
   "cell_type": "code",
   "execution_count": 104,
   "metadata": {},
   "outputs": [
    {
     "data": {
      "text/html": [
       "<div>\n",
       "<style scoped>\n",
       "    .dataframe tbody tr th:only-of-type {\n",
       "        vertical-align: middle;\n",
       "    }\n",
       "\n",
       "    .dataframe tbody tr th {\n",
       "        vertical-align: top;\n",
       "    }\n",
       "\n",
       "    .dataframe thead th {\n",
       "        text-align: right;\n",
       "    }\n",
       "</style>\n",
       "<table border=\"1\" class=\"dataframe\">\n",
       "  <thead>\n",
       "    <tr style=\"text-align: right;\">\n",
       "      <th></th>\n",
       "      <th>x</th>\n",
       "      <th>y</th>\n",
       "      <th>data</th>\n",
       "    </tr>\n",
       "  </thead>\n",
       "  <tbody>\n",
       "    <tr>\n",
       "      <td>0</td>\n",
       "      <td>10</td>\n",
       "      <td>8.04</td>\n",
       "      <td>0</td>\n",
       "    </tr>\n",
       "    <tr>\n",
       "      <td>1</td>\n",
       "      <td>8</td>\n",
       "      <td>6.95</td>\n",
       "      <td>0</td>\n",
       "    </tr>\n",
       "    <tr>\n",
       "      <td>2</td>\n",
       "      <td>13</td>\n",
       "      <td>7.58</td>\n",
       "      <td>0</td>\n",
       "    </tr>\n",
       "    <tr>\n",
       "      <td>3</td>\n",
       "      <td>9</td>\n",
       "      <td>8.81</td>\n",
       "      <td>0</td>\n",
       "    </tr>\n",
       "    <tr>\n",
       "      <td>4</td>\n",
       "      <td>11</td>\n",
       "      <td>8.33</td>\n",
       "      <td>0</td>\n",
       "    </tr>\n",
       "    <tr>\n",
       "      <td>5</td>\n",
       "      <td>14</td>\n",
       "      <td>9.96</td>\n",
       "      <td>0</td>\n",
       "    </tr>\n",
       "    <tr>\n",
       "      <td>6</td>\n",
       "      <td>6</td>\n",
       "      <td>7.24</td>\n",
       "      <td>0</td>\n",
       "    </tr>\n",
       "    <tr>\n",
       "      <td>7</td>\n",
       "      <td>4</td>\n",
       "      <td>4.26</td>\n",
       "      <td>0</td>\n",
       "    </tr>\n",
       "    <tr>\n",
       "      <td>8</td>\n",
       "      <td>12</td>\n",
       "      <td>10.84</td>\n",
       "      <td>0</td>\n",
       "    </tr>\n",
       "    <tr>\n",
       "      <td>9</td>\n",
       "      <td>7</td>\n",
       "      <td>4.82</td>\n",
       "      <td>0</td>\n",
       "    </tr>\n",
       "    <tr>\n",
       "      <td>10</td>\n",
       "      <td>5</td>\n",
       "      <td>5.68</td>\n",
       "      <td>0</td>\n",
       "    </tr>\n",
       "    <tr>\n",
       "      <td>11</td>\n",
       "      <td>10</td>\n",
       "      <td>9.14</td>\n",
       "      <td>1</td>\n",
       "    </tr>\n",
       "    <tr>\n",
       "      <td>12</td>\n",
       "      <td>8</td>\n",
       "      <td>8.14</td>\n",
       "      <td>1</td>\n",
       "    </tr>\n",
       "    <tr>\n",
       "      <td>13</td>\n",
       "      <td>13</td>\n",
       "      <td>8.74</td>\n",
       "      <td>1</td>\n",
       "    </tr>\n",
       "    <tr>\n",
       "      <td>14</td>\n",
       "      <td>9</td>\n",
       "      <td>8.77</td>\n",
       "      <td>1</td>\n",
       "    </tr>\n",
       "  </tbody>\n",
       "</table>\n",
       "</div>"
      ],
      "text/plain": [
       "     x      y  data\n",
       "0   10   8.04     0\n",
       "1    8   6.95     0\n",
       "2   13   7.58     0\n",
       "3    9   8.81     0\n",
       "4   11   8.33     0\n",
       "5   14   9.96     0\n",
       "6    6   7.24     0\n",
       "7    4   4.26     0\n",
       "8   12  10.84     0\n",
       "9    7   4.82     0\n",
       "10   5   5.68     0\n",
       "11  10   9.14     1\n",
       "12   8   8.14     1\n",
       "13  13   8.74     1\n",
       "14   9   8.77     1"
      ]
     },
     "execution_count": 104,
     "metadata": {},
     "output_type": "execute_result"
    }
   ],
   "source": [
    "anscombe = pd.read_csv(\"static/anscombe.csv\")\n",
    "anscombe[:15]"
   ]
  },
  {
   "cell_type": "code",
   "execution_count": 116,
   "metadata": {},
   "outputs": [
    {
     "data": {
      "text/plain": [
       "<seaborn.axisgrid.FacetGrid at 0x1d76f435080>"
      ]
     },
     "execution_count": 116,
     "metadata": {},
     "output_type": "execute_result"
    },
    {
     "data": {
      "image/png": "[encoded data removed]",
      "text/plain": [
       "<Figure size 1440x360 with 4 Axes>"
      ]
     },
     "metadata": {
      "needs_background": "light"
     },
     "output_type": "display_data"
    }
   ],
   "source": [
    "#grid = sns.FacetGrid(\n",
    "#    anscombe,\n",
    "#    col=\"data\",\n",
    "#    col_wrap=2,\n",
    "#)\n",
    "sns.lmplot(data=anscombe, col=\"data\", x=\"x\", y=\"y\", ci=None)"
   ]
  },
  {
   "cell_type": "code",
   "execution_count": null,
   "metadata": {},
   "outputs": [],
   "source": [
    "anscombe[anscombe[\"data\"] == 1].describe()"
   ]
  },
  {
   "cell_type": "code",
   "execution_count": null,
   "metadata": {},
   "outputs": [],
   "source": [
    "anscombe[anscombe[\"data\"] == 0].describe()"
   ]
  },
  {
   "cell_type": "code",
   "execution_count": null,
   "metadata": {},
   "outputs": [],
   "source": [
    "anscombe[anscombe[\"data\"] == 0][[\"x\", \"y\"]].corr()"
   ]
  },
  {
   "cell_type": "code",
   "execution_count": null,
   "metadata": {},
   "outputs": [],
   "source": [
    "anscombe[anscombe[\"data\"] == 1][[\"x\", \"y\"]].corr()"
   ]
  },
  {
   "cell_type": "markdown",
   "metadata": {},
   "source": [
    "Dovedeno do extrému, není vůbec problém nakreslit téměř libovolně vypadající obrázek alias bodový graf, který bude mít dané souhrnné statistiky. V pěkném interaktivním článku [Same Stats, Different Graphs...](https://www.autodeskresearch.com/publications/samestats) autoři ukazují pěkné animace plynulých přechodů mezi sadami, které se chovají podobně jako Anscombeho kvartet.\n",
    "\n",
    "My si ukážeme aspoň statickou podobu:"
   ]
  },
  {
   "cell_type": "code",
   "execution_count": 14,
   "metadata": {},
   "outputs": [
    {
     "data": {
      "text/html": [
       "<div>\n",
       "<style scoped>\n",
       "    .dataframe tbody tr th:only-of-type {\n",
       "        vertical-align: middle;\n",
       "    }\n",
       "\n",
       "    .dataframe tbody tr th {\n",
       "        vertical-align: top;\n",
       "    }\n",
       "\n",
       "    .dataframe thead th {\n",
       "        text-align: right;\n",
       "    }\n",
       "</style>\n",
       "<table border=\"1\" class=\"dataframe\">\n",
       "  <thead>\n",
       "    <tr style=\"text-align: right;\">\n",
       "      <th></th>\n",
       "      <th>dataset</th>\n",
       "      <th>x</th>\n",
       "      <th>y</th>\n",
       "    </tr>\n",
       "  </thead>\n",
       "  <tbody>\n",
       "    <tr>\n",
       "      <td>1487</td>\n",
       "      <td>slant_up</td>\n",
       "      <td>54.855665</td>\n",
       "      <td>83.783398</td>\n",
       "    </tr>\n",
       "    <tr>\n",
       "      <td>1024</td>\n",
       "      <td>dots</td>\n",
       "      <td>52.589720</td>\n",
       "      <td>51.338090</td>\n",
       "    </tr>\n",
       "    <tr>\n",
       "      <td>1634</td>\n",
       "      <td>slant_down</td>\n",
       "      <td>53.385281</td>\n",
       "      <td>78.871136</td>\n",
       "    </tr>\n",
       "    <tr>\n",
       "      <td>277</td>\n",
       "      <td>away</td>\n",
       "      <td>52.033456</td>\n",
       "      <td>64.566662</td>\n",
       "    </tr>\n",
       "    <tr>\n",
       "      <td>1287</td>\n",
       "      <td>bullseye</td>\n",
       "      <td>27.560835</td>\n",
       "      <td>72.847826</td>\n",
       "    </tr>\n",
       "    <tr>\n",
       "      <td>927</td>\n",
       "      <td>high_lines</td>\n",
       "      <td>30.011264</td>\n",
       "      <td>68.146756</td>\n",
       "    </tr>\n",
       "    <tr>\n",
       "      <td>411</td>\n",
       "      <td>h_lines</td>\n",
       "      <td>57.053306</td>\n",
       "      <td>10.514069</td>\n",
       "    </tr>\n",
       "    <tr>\n",
       "      <td>1035</td>\n",
       "      <td>dots</td>\n",
       "      <td>27.892659</td>\n",
       "      <td>50.795282</td>\n",
       "    </tr>\n",
       "    <tr>\n",
       "      <td>353</td>\n",
       "      <td>h_lines</td>\n",
       "      <td>57.902687</td>\n",
       "      <td>89.618402</td>\n",
       "    </tr>\n",
       "    <tr>\n",
       "      <td>1061</td>\n",
       "      <td>dots</td>\n",
       "      <td>50.178672</td>\n",
       "      <td>83.184622</td>\n",
       "    </tr>\n",
       "  </tbody>\n",
       "</table>\n",
       "</div>"
      ],
      "text/plain": [
       "         dataset          x          y\n",
       "1487    slant_up  54.855665  83.783398\n",
       "1024        dots  52.589720  51.338090\n",
       "1634  slant_down  53.385281  78.871136\n",
       "277         away  52.033456  64.566662\n",
       "1287    bullseye  27.560835  72.847826\n",
       "927   high_lines  30.011264  68.146756\n",
       "411      h_lines  57.053306  10.514069\n",
       "1035        dots  27.892659  50.795282\n",
       "353      h_lines  57.902687  89.618402\n",
       "1061        dots  50.178672  83.184622"
      ]
     },
     "execution_count": 14,
     "metadata": {},
     "output_type": "execute_result"
    }
   ],
   "source": [
    "# Data nejsou oddělená čárkami, ale tabulátory\n",
    "datasaurus = pd.read_csv(\"static/datasaurus_dozen.tsv\", delimiter=\"\\t\")\n",
    "datasaurus.sample(10)"
   ]
  },
  {
   "cell_type": "code",
   "execution_count": 102,
   "metadata": {
    "scrolled": false
   },
   "outputs": [
    {
     "data": {
      "text/plain": [
       "<seaborn.axisgrid.FacetGrid at 0x1d76f25cba8>"
      ]
     },
     "execution_count": 102,
     "metadata": {},
     "output_type": "execute_result"
    },
    {
     "data": {
      "image/png": "[encoded data removed]",
      "text/plain": [
       "<Figure size 1080x648 with 13 Axes>"
      ]
     },
     "metadata": {
      "needs_background": "light"
     },
     "output_type": "display_data"
    }
   ],
   "source": [
    "grid = sns.FacetGrid(\n",
    "    datasaurus,\n",
    "    col=\"dataset\",\n",
    "    col_wrap=5,\n",
    ")\n",
    "grid.map(sns.regplot, \"x\", \"y\", ci=None)"
   ]
  },
  {
   "cell_type": "code",
   "execution_count": 34,
   "metadata": {},
   "outputs": [
    {
     "data": {
      "text/html": [
       "<div>\n",
       "<style scoped>\n",
       "    .dataframe tbody tr th:only-of-type {\n",
       "        vertical-align: middle;\n",
       "    }\n",
       "\n",
       "    .dataframe tbody tr th {\n",
       "        vertical-align: top;\n",
       "    }\n",
       "\n",
       "    .dataframe thead th {\n",
       "        text-align: right;\n",
       "    }\n",
       "</style>\n",
       "<table border=\"1\" class=\"dataframe\">\n",
       "  <thead>\n",
       "    <tr style=\"text-align: right;\">\n",
       "      <th></th>\n",
       "      <th>(x, mean)</th>\n",
       "      <th>(x, std)</th>\n",
       "      <th>(y, mean)</th>\n",
       "      <th>(y, std)</th>\n",
       "      <th>pearson_r</th>\n",
       "    </tr>\n",
       "    <tr>\n",
       "      <th>dataset</th>\n",
       "      <th></th>\n",
       "      <th></th>\n",
       "      <th></th>\n",
       "      <th></th>\n",
       "      <th></th>\n",
       "    </tr>\n",
       "  </thead>\n",
       "  <tbody>\n",
       "    <tr>\n",
       "      <td>away</td>\n",
       "      <td>54.266100</td>\n",
       "      <td>16.769825</td>\n",
       "      <td>47.834721</td>\n",
       "      <td>26.939743</td>\n",
       "      <td>-0.064128</td>\n",
       "    </tr>\n",
       "    <tr>\n",
       "      <td>bullseye</td>\n",
       "      <td>54.268730</td>\n",
       "      <td>16.769239</td>\n",
       "      <td>47.830823</td>\n",
       "      <td>26.935727</td>\n",
       "      <td>-0.068586</td>\n",
       "    </tr>\n",
       "    <tr>\n",
       "      <td>circle</td>\n",
       "      <td>54.267320</td>\n",
       "      <td>16.760013</td>\n",
       "      <td>47.837717</td>\n",
       "      <td>26.930036</td>\n",
       "      <td>-0.068343</td>\n",
       "    </tr>\n",
       "    <tr>\n",
       "      <td>dino</td>\n",
       "      <td>54.263273</td>\n",
       "      <td>16.765142</td>\n",
       "      <td>47.832253</td>\n",
       "      <td>26.935403</td>\n",
       "      <td>-0.064472</td>\n",
       "    </tr>\n",
       "    <tr>\n",
       "      <td>dots</td>\n",
       "      <td>54.260303</td>\n",
       "      <td>16.767735</td>\n",
       "      <td>47.839829</td>\n",
       "      <td>26.930192</td>\n",
       "      <td>-0.060341</td>\n",
       "    </tr>\n",
       "    <tr>\n",
       "      <td>h_lines</td>\n",
       "      <td>54.261442</td>\n",
       "      <td>16.765898</td>\n",
       "      <td>47.830252</td>\n",
       "      <td>26.939876</td>\n",
       "      <td>-0.061715</td>\n",
       "    </tr>\n",
       "    <tr>\n",
       "      <td>high_lines</td>\n",
       "      <td>54.268805</td>\n",
       "      <td>16.766704</td>\n",
       "      <td>47.835450</td>\n",
       "      <td>26.939998</td>\n",
       "      <td>-0.068504</td>\n",
       "    </tr>\n",
       "    <tr>\n",
       "      <td>slant_down</td>\n",
       "      <td>54.267849</td>\n",
       "      <td>16.766759</td>\n",
       "      <td>47.835896</td>\n",
       "      <td>26.936105</td>\n",
       "      <td>-0.068980</td>\n",
       "    </tr>\n",
       "    <tr>\n",
       "      <td>slant_up</td>\n",
       "      <td>54.265882</td>\n",
       "      <td>16.768853</td>\n",
       "      <td>47.831496</td>\n",
       "      <td>26.938608</td>\n",
       "      <td>-0.068609</td>\n",
       "    </tr>\n",
       "    <tr>\n",
       "      <td>star</td>\n",
       "      <td>54.267341</td>\n",
       "      <td>16.768959</td>\n",
       "      <td>47.839545</td>\n",
       "      <td>26.930275</td>\n",
       "      <td>-0.062961</td>\n",
       "    </tr>\n",
       "    <tr>\n",
       "      <td>v_lines</td>\n",
       "      <td>54.269927</td>\n",
       "      <td>16.769959</td>\n",
       "      <td>47.836988</td>\n",
       "      <td>26.937684</td>\n",
       "      <td>-0.069446</td>\n",
       "    </tr>\n",
       "    <tr>\n",
       "      <td>wide_lines</td>\n",
       "      <td>54.266916</td>\n",
       "      <td>16.770000</td>\n",
       "      <td>47.831602</td>\n",
       "      <td>26.937902</td>\n",
       "      <td>-0.066575</td>\n",
       "    </tr>\n",
       "    <tr>\n",
       "      <td>x_shape</td>\n",
       "      <td>54.260150</td>\n",
       "      <td>16.769958</td>\n",
       "      <td>47.839717</td>\n",
       "      <td>26.930002</td>\n",
       "      <td>-0.065583</td>\n",
       "    </tr>\n",
       "  </tbody>\n",
       "</table>\n",
       "</div>"
      ],
      "text/plain": [
       "            (x, mean)   (x, std)  (y, mean)   (y, std)  pearson_r\n",
       "dataset                                                          \n",
       "away        54.266100  16.769825  47.834721  26.939743  -0.064128\n",
       "bullseye    54.268730  16.769239  47.830823  26.935727  -0.068586\n",
       "circle      54.267320  16.760013  47.837717  26.930036  -0.068343\n",
       "dino        54.263273  16.765142  47.832253  26.935403  -0.064472\n",
       "dots        54.260303  16.767735  47.839829  26.930192  -0.060341\n",
       "h_lines     54.261442  16.765898  47.830252  26.939876  -0.061715\n",
       "high_lines  54.268805  16.766704  47.835450  26.939998  -0.068504\n",
       "slant_down  54.267849  16.766759  47.835896  26.936105  -0.068980\n",
       "slant_up    54.265882  16.768853  47.831496  26.938608  -0.068609\n",
       "star        54.267341  16.768959  47.839545  26.930275  -0.062961\n",
       "v_lines     54.269927  16.769959  47.836988  26.937684  -0.069446\n",
       "wide_lines  54.266916  16.770000  47.831602  26.937902  -0.066575\n",
       "x_shape     54.260150  16.769958  47.839717  26.930002  -0.065583"
      ]
     },
     "execution_count": 34,
     "metadata": {},
     "output_type": "execute_result"
    }
   ],
   "source": [
    "grouper = datasaurus.groupby(\"dataset\")\n",
    "single = grouper.agg({\"x\": (\"mean\", \"std\"), \"y\": (\"mean\", \"std\")})\n",
    "correlation = grouper.apply(lambda g: g[\"x\"].corr(g[\"y\"])).rename(\"pearson_r\")\n",
    "single.join(correlation)"
   ]
  },
  {
   "cell_type": "code",
   "execution_count": 94,
   "metadata": {},
   "outputs": [
    {
     "name": "stdout",
     "output_type": "stream",
     "text": [
      "Korelační koeficient: -0.0666079270385194\n"
     ]
    },
    {
     "data": {
      "text/html": [
       "<div>\n",
       "<style scoped>\n",
       "    .dataframe tbody tr th:only-of-type {\n",
       "        vertical-align: middle;\n",
       "    }\n",
       "\n",
       "    .dataframe tbody tr th {\n",
       "        vertical-align: top;\n",
       "    }\n",
       "\n",
       "    .dataframe thead th {\n",
       "        text-align: right;\n",
       "    }\n",
       "</style>\n",
       "<table border=\"1\" class=\"dataframe\">\n",
       "  <thead>\n",
       "    <tr style=\"text-align: right;\">\n",
       "      <th></th>\n",
       "      <th>x</th>\n",
       "      <th>y</th>\n",
       "    </tr>\n",
       "  </thead>\n",
       "  <tbody>\n",
       "    <tr>\n",
       "      <td>count</td>\n",
       "      <td>100.000000</td>\n",
       "      <td>100.000000</td>\n",
       "    </tr>\n",
       "    <tr>\n",
       "      <td>mean</td>\n",
       "      <td>54.260000</td>\n",
       "      <td>47.830000</td>\n",
       "    </tr>\n",
       "    <tr>\n",
       "      <td>std</td>\n",
       "      <td>16.854484</td>\n",
       "      <td>27.075719</td>\n",
       "    </tr>\n",
       "    <tr>\n",
       "      <td>min</td>\n",
       "      <td>10.887127</td>\n",
       "      <td>-19.841522</td>\n",
       "    </tr>\n",
       "    <tr>\n",
       "      <td>25%</td>\n",
       "      <td>41.143948</td>\n",
       "      <td>29.283937</td>\n",
       "    </tr>\n",
       "    <tr>\n",
       "      <td>50%</td>\n",
       "      <td>55.479964</td>\n",
       "      <td>50.354194</td>\n",
       "    </tr>\n",
       "    <tr>\n",
       "      <td>75%</td>\n",
       "      <td>64.852547</td>\n",
       "      <td>67.048146</td>\n",
       "    </tr>\n",
       "    <tr>\n",
       "      <td>max</td>\n",
       "      <td>91.863508</td>\n",
       "      <td>112.626771</td>\n",
       "    </tr>\n",
       "  </tbody>\n",
       "</table>\n",
       "</div>"
      ],
      "text/plain": [
       "                x           y\n",
       "count  100.000000  100.000000\n",
       "mean    54.260000   47.830000\n",
       "std     16.854484   27.075719\n",
       "min     10.887127  -19.841522\n",
       "25%     41.143948   29.283937\n",
       "50%     55.479964   50.354194\n",
       "75%     64.852547   67.048146\n",
       "max     91.863508  112.626771"
      ]
     },
     "execution_count": 94,
     "metadata": {},
     "output_type": "execute_result"
    },
    {
     "data": {
      "image/png": "[encoded data removed]",
      "text/plain": [
       "<Figure size 432x288 with 1 Axes>"
      ]
     },
     "metadata": {
      "needs_background": "light"
     },
     "output_type": "display_data"
    }
   ],
   "source": [
    "import numpy as np\n",
    "x = np.random.normal(0, 1, 100)\n",
    "y = np.random.normal(0, 1, 100)\n",
    "\n",
    "while True:\n",
    "    correlation = pd.Series(x).corr(pd.Series(y))\n",
    "    if correlation < -0.067:\n",
    "        y = y + (x * 0.001)\n",
    "    elif correlation > -0.065:\n",
    "        y = y - (x * 0.001)\n",
    "    else:\n",
    "        break\n",
    "        \n",
    "x = x * 16.77 / x.std()\n",
    "x = x + 54.26 - x.mean()\n",
    "\n",
    "y = y * 26.94 / y.std()\n",
    "y = y + 47.83 - y.mean()\n",
    "\n",
    "plt.scatter(x, y)\n",
    "print(\"Korelační koeficient:\", pd.Series(x).corr(pd.Series(y)))\n",
    "pd.DataFrame({\"x\": x, \"y\": y}).describe()"
   ]
  },
  {
   "cell_type": "raw",
   "metadata": {},
   "source": [
    "### Korelace versus kauzalita\n",
    "\n",
    "[Hillova kritéria](https://en.wikipedia.org/wiki/Bradford_Hill_criteria)"
   ]
  },
  {
   "cell_type": "markdown",
   "metadata": {},
   "source": [
    "### Heatmap"
   ]
  },
  {
   "cell_type": "markdown",
   "metadata": {},
   "source": [
    "## Vztahy mezi více proměnnými\n",
    "\n",
    "Pokud si tyto materiály nečteš na holografickém displeji, jsi při zobrazování dat omezen/a na dva rozměry. Můžeš si prohlížet dvourozměrné tabulky, kreslit dvourozměrné grafy."
   ]
  },
  {
   "cell_type": "code",
   "execution_count": null,
   "metadata": {},
   "outputs": [],
   "source": [
    "# scattermatrix"
   ]
  },
  {
   "cell_type": "code",
   "execution_count": null,
   "metadata": {},
   "outputs": [],
   "source": [
    "# pairplot"
   ]
  },
  {
   "cell_type": "code",
   "execution_count": null,
   "metadata": {},
   "outputs": [],
   "source": [
    "# catplot"
   ]
  },
  {
   "cell_type": "code",
   "execution_count": null,
   "metadata": {},
   "outputs": [],
   "source": [
    "# 3D grafy"
   ]
  },
  {
   "cell_type": "code",
   "execution_count": null,
   "metadata": {},
   "outputs": [],
   "source": [
    "import pandas as pd\n",
    "kolac = pd.Series(\n",
    "    [1, 1, 1] * 2,\n",
    "    index = [\"mák\", \"tvaroh\", \"povidla\"] * 2\n",
    ")\n",
    "ax = kolac.plot.pie(\n",
    "    figsize=(8, 8),\n",
    "    title=\"Koláčový graf\",\n",
    "    colors=[\"#303090\", \"#ffffed\", \"#200040\"] * 2,\n",
    "    wedgeprops = {'linewidth': 15, 'edgecolor': \"#ffa070\"},\n",
    ")\n",
    "ax.set_ylabel(None);"
   ]
  }
 ],
 "metadata": {
  "kernelspec": {
   "display_name": "Python 3",
   "language": "python",
   "name": "python3"
  },
  "language_info": {
   "codemirror_mode": {
    "name": "ipython",
    "version": 3
   },
   "file_extension": ".py",
   "mimetype": "text/x-python",
   "name": "python",
   "nbconvert_exporter": "python",
   "pygments_lexer": "ipython3",
   "version": "3.7.3"
  }
 },
 "nbformat": 4,
 "nbformat_minor": 2
}
