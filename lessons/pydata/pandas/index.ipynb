{
 "cells": [
  {
   "cell_type": "markdown",
   "metadata": {},
   "source": [
    "# Knihovna pandas a základní manipulace s tabulkovými daty"
   ]
  },
  {
   "cell_type": "markdown",
   "metadata": {},
   "source": [
    "Před jakoukoli složitější analýzou je třeba naučit se základy práce se zpracovávanými daty. Data můžou být různého charakteru - jednorozměrná, dvourozměrná, strukturovaná, nestrukturovaná, obrazová, zvuková... V lekcích expolarativní datové analýzy budeme pracovat s daty převážně **tabulkovými** - tedy takovými, které jistě znáš ze svého oblíbeného (nebo neoblíbeného) tabulkového procesoru (spreadsheetu). Obvykle každý **řádek** takové tabulky odpovídá nějaké věci, exempláři čehosi, případně nějakému pozorování. V jednotlivých **sloupcích** se pak nacházejí jednotlivé vlastnosti či měřené veličiny pro tyto věci charakteristické.\n",
    "\n",
    "Ve světě Pythonu je pro zpracování tabulkových dat nejpoužívanější knihovnou **pandas**. Ta umožňuje načítat data z mnohých formátů (včetně sešitů XLS(x)), různě je upravovat, velice efektivně počítat se sloupci, přímo zkoumat některé statistické ukazatele a v neposlední řadě výsledky pěkně vizualizovat. Tato lekce tě seznámí se základními použitými koncepty a naučí tě přistupovat k jednotlivým sloupcům, řádkům a buňkám.\n",
    "\n",
    "Více o knihovně pandas najdeš na jejích domovských stránkách: https://pandas.pydata.org/"
   ]
  },
  {
   "cell_type": "markdown",
   "metadata": {},
   "source": [
    "## Import knihoven"
   ]
  },
  {
   "cell_type": "code",
   "execution_count": 1,
   "metadata": {
    "scrolled": true
   },
   "outputs": [],
   "source": [
    "import pandas as pd     # K pandas budeme přistupovat pomocí aliasu pd"
   ]
  },
  {
   "cell_type": "markdown",
   "metadata": {},
   "source": [
    "Při běžném programování se snažíme vyhnout aliasům, protože znepřehledňují kód, ale ve světě datové analytiky se některé aliasy tak zažily, že je budeme používat i v tomto kurzu (další ještě přijdou)."
   ]
  },
  {
   "cell_type": "markdown",
   "metadata": {},
   "source": [
    "## Načtení tabulky s daty"
   ]
  },
  {
   "cell_type": "markdown",
   "metadata": {},
   "source": [
    "Skočíme do pandas rovnýma nohama a ukážeme si typický příklad dat, která s touto knihovnou budeme zpracovávat.\n",
    "\n",
    "Pro čtení dat má Pandas celou řadu funkcí `read_*`, díky kterým si poradí s celou řadou různých formátů. Poměrně častým je formát CSV (comma-separated values - [wiki](https://cs.wikipedia.org/wiki/CSV)), ve kterém jsou jednotlivé hodnoty oddělené čárkami.\n",
    "\n",
    "**TODO** <span style=\"background-color: yellow\">Ověřit následující: mechanismus přístupu k datům</span>\n",
    "\n",
    "Pokud budeš tímto notebookem experimentovat, stáhni si nejdříve soubor s daty z [tohoto odkazu](static/pokemon.csv). Data pro pokusy jsou vytvořena z [komplexního Pokedexu na Githubu](https://github.com/veekun/pokedex)."
   ]
  },
  {
   "cell_type": "code",
   "execution_count": 2,
   "metadata": {},
   "outputs": [],
   "source": [
    "data = pd.read_csv(\"static/pokemon.csv\")"
   ]
  },
  {
   "cell_type": "markdown",
   "metadata": {},
   "source": [
    "Data (ať už to je cokoliv) jsou nyní načtená v paměti. Pojďme se podívat, co se v nich ukrývá."
   ]
  },
  {
   "cell_type": "code",
   "execution_count": 3,
   "metadata": {
    "scrolled": false
   },
   "outputs": [
    {
     "data": {
      "text/html": [
       "<div>\n",
       "<style scoped>\n",
       "    .dataframe tbody tr th:only-of-type {\n",
       "        vertical-align: middle;\n",
       "    }\n",
       "\n",
       "    .dataframe tbody tr th {\n",
       "        vertical-align: top;\n",
       "    }\n",
       "\n",
       "    .dataframe thead th {\n",
       "        text-align: right;\n",
       "    }\n",
       "</style>\n",
       "<table border=\"1\" class=\"dataframe\">\n",
       "  <thead>\n",
       "    <tr style=\"text-align: right;\">\n",
       "      <th></th>\n",
       "      <th>id</th>\n",
       "      <th>name</th>\n",
       "      <th>height</th>\n",
       "      <th>weight</th>\n",
       "      <th>color</th>\n",
       "      <th>shape</th>\n",
       "      <th>is baby</th>\n",
       "      <th>type 1</th>\n",
       "      <th>type 2</th>\n",
       "      <th>hp</th>\n",
       "      <th>attack</th>\n",
       "      <th>defense</th>\n",
       "      <th>speed</th>\n",
       "    </tr>\n",
       "  </thead>\n",
       "  <tbody>\n",
       "    <tr>\n",
       "      <td>0</td>\n",
       "      <td>1</td>\n",
       "      <td>bulbasaur</td>\n",
       "      <td>0.7</td>\n",
       "      <td>6.9</td>\n",
       "      <td>green</td>\n",
       "      <td>quadruped</td>\n",
       "      <td>False</td>\n",
       "      <td>Grass</td>\n",
       "      <td>Poison</td>\n",
       "      <td>45</td>\n",
       "      <td>49</td>\n",
       "      <td>49</td>\n",
       "      <td>45</td>\n",
       "    </tr>\n",
       "    <tr>\n",
       "      <td>1</td>\n",
       "      <td>2</td>\n",
       "      <td>ivysaur</td>\n",
       "      <td>1.0</td>\n",
       "      <td>13.0</td>\n",
       "      <td>green</td>\n",
       "      <td>quadruped</td>\n",
       "      <td>False</td>\n",
       "      <td>Grass</td>\n",
       "      <td>Poison</td>\n",
       "      <td>60</td>\n",
       "      <td>62</td>\n",
       "      <td>63</td>\n",
       "      <td>60</td>\n",
       "    </tr>\n",
       "    <tr>\n",
       "      <td>2</td>\n",
       "      <td>3</td>\n",
       "      <td>venusaur</td>\n",
       "      <td>2.0</td>\n",
       "      <td>100.0</td>\n",
       "      <td>green</td>\n",
       "      <td>quadruped</td>\n",
       "      <td>False</td>\n",
       "      <td>Grass</td>\n",
       "      <td>Poison</td>\n",
       "      <td>80</td>\n",
       "      <td>82</td>\n",
       "      <td>83</td>\n",
       "      <td>80</td>\n",
       "    </tr>\n",
       "    <tr>\n",
       "      <td>3</td>\n",
       "      <td>4</td>\n",
       "      <td>charmander</td>\n",
       "      <td>0.6</td>\n",
       "      <td>8.5</td>\n",
       "      <td>red</td>\n",
       "      <td>upright</td>\n",
       "      <td>False</td>\n",
       "      <td>Fire</td>\n",
       "      <td>NaN</td>\n",
       "      <td>39</td>\n",
       "      <td>52</td>\n",
       "      <td>43</td>\n",
       "      <td>65</td>\n",
       "    </tr>\n",
       "    <tr>\n",
       "      <td>4</td>\n",
       "      <td>5</td>\n",
       "      <td>charmeleon</td>\n",
       "      <td>1.1</td>\n",
       "      <td>19.0</td>\n",
       "      <td>red</td>\n",
       "      <td>upright</td>\n",
       "      <td>False</td>\n",
       "      <td>Fire</td>\n",
       "      <td>NaN</td>\n",
       "      <td>58</td>\n",
       "      <td>64</td>\n",
       "      <td>58</td>\n",
       "      <td>80</td>\n",
       "    </tr>\n",
       "    <tr>\n",
       "      <td>...</td>\n",
       "      <td>...</td>\n",
       "      <td>...</td>\n",
       "      <td>...</td>\n",
       "      <td>...</td>\n",
       "      <td>...</td>\n",
       "      <td>...</td>\n",
       "      <td>...</td>\n",
       "      <td>...</td>\n",
       "      <td>...</td>\n",
       "      <td>...</td>\n",
       "      <td>...</td>\n",
       "      <td>...</td>\n",
       "      <td>...</td>\n",
       "    </tr>\n",
       "    <tr>\n",
       "      <td>802</td>\n",
       "      <td>803</td>\n",
       "      <td>poipole</td>\n",
       "      <td>0.6</td>\n",
       "      <td>1.8</td>\n",
       "      <td>purple</td>\n",
       "      <td>upright</td>\n",
       "      <td>False</td>\n",
       "      <td>Poison</td>\n",
       "      <td>NaN</td>\n",
       "      <td>67</td>\n",
       "      <td>73</td>\n",
       "      <td>67</td>\n",
       "      <td>73</td>\n",
       "    </tr>\n",
       "    <tr>\n",
       "      <td>803</td>\n",
       "      <td>804</td>\n",
       "      <td>naganadel</td>\n",
       "      <td>3.6</td>\n",
       "      <td>150.0</td>\n",
       "      <td>purple</td>\n",
       "      <td>wings</td>\n",
       "      <td>False</td>\n",
       "      <td>Poison</td>\n",
       "      <td>Dragon</td>\n",
       "      <td>73</td>\n",
       "      <td>73</td>\n",
       "      <td>73</td>\n",
       "      <td>121</td>\n",
       "    </tr>\n",
       "    <tr>\n",
       "      <td>804</td>\n",
       "      <td>805</td>\n",
       "      <td>stakataka</td>\n",
       "      <td>5.5</td>\n",
       "      <td>820.0</td>\n",
       "      <td>gray</td>\n",
       "      <td>quadruped</td>\n",
       "      <td>False</td>\n",
       "      <td>Rock</td>\n",
       "      <td>Steel</td>\n",
       "      <td>61</td>\n",
       "      <td>131</td>\n",
       "      <td>211</td>\n",
       "      <td>13</td>\n",
       "    </tr>\n",
       "    <tr>\n",
       "      <td>805</td>\n",
       "      <td>806</td>\n",
       "      <td>blacephalon</td>\n",
       "      <td>1.8</td>\n",
       "      <td>13.0</td>\n",
       "      <td>white</td>\n",
       "      <td>humanoid</td>\n",
       "      <td>False</td>\n",
       "      <td>Fire</td>\n",
       "      <td>Ghost</td>\n",
       "      <td>53</td>\n",
       "      <td>127</td>\n",
       "      <td>53</td>\n",
       "      <td>107</td>\n",
       "    </tr>\n",
       "    <tr>\n",
       "      <td>806</td>\n",
       "      <td>807</td>\n",
       "      <td>zeraora</td>\n",
       "      <td>1.5</td>\n",
       "      <td>44.5</td>\n",
       "      <td>yellow</td>\n",
       "      <td>humanoid</td>\n",
       "      <td>False</td>\n",
       "      <td>Electric</td>\n",
       "      <td>NaN</td>\n",
       "      <td>88</td>\n",
       "      <td>112</td>\n",
       "      <td>75</td>\n",
       "      <td>143</td>\n",
       "    </tr>\n",
       "  </tbody>\n",
       "</table>\n",
       "<p>807 rows × 13 columns</p>\n",
       "</div>"
      ],
      "text/plain": [
       "      id         name  height  weight   color      shape  is baby    type 1  \\\n",
       "0      1    bulbasaur     0.7     6.9   green  quadruped    False     Grass   \n",
       "1      2      ivysaur     1.0    13.0   green  quadruped    False     Grass   \n",
       "2      3     venusaur     2.0   100.0   green  quadruped    False     Grass   \n",
       "3      4   charmander     0.6     8.5     red    upright    False      Fire   \n",
       "4      5   charmeleon     1.1    19.0     red    upright    False      Fire   \n",
       "..   ...          ...     ...     ...     ...        ...      ...       ...   \n",
       "802  803      poipole     0.6     1.8  purple    upright    False    Poison   \n",
       "803  804    naganadel     3.6   150.0  purple      wings    False    Poison   \n",
       "804  805    stakataka     5.5   820.0    gray  quadruped    False      Rock   \n",
       "805  806  blacephalon     1.8    13.0   white   humanoid    False      Fire   \n",
       "806  807      zeraora     1.5    44.5  yellow   humanoid    False  Electric   \n",
       "\n",
       "     type 2  hp  attack  defense  speed  \n",
       "0    Poison  45      49       49     45  \n",
       "1    Poison  60      62       63     60  \n",
       "2    Poison  80      82       83     80  \n",
       "3       NaN  39      52       43     65  \n",
       "4       NaN  58      64       58     80  \n",
       "..      ...  ..     ...      ...    ...  \n",
       "802     NaN  67      73       67     73  \n",
       "803  Dragon  73      73       73    121  \n",
       "804   Steel  61     131      211     13  \n",
       "805   Ghost  53     127       53    107  \n",
       "806     NaN  88     112       75    143  \n",
       "\n",
       "[807 rows x 13 columns]"
      ]
     },
     "execution_count": 3,
     "metadata": {},
     "output_type": "execute_result"
    }
   ],
   "source": [
    "data"
   ]
  },
  {
   "cell_type": "markdown",
   "metadata": {},
   "source": [
    "Pokud vše zafungovalo, jak má, měl(a) bys před sebou mít relativně pěkně naformátovanou tabulku. Základní zobrazení v notebooku ti ukáže prvních pět a posledních pět řádků (kdo by riskoval, že mu tisíce řádků zahltí okno prohlížeče?) v tabulce společně s informací o celkovém počtu řádků a sloupců. V tomto případě tabulka obsahuje celkem 13 vlastností (pojmenovaných sloupců) 807 různých pokémonů (očíslovaných řádků).\n",
    "\n",
    "⚠️ **Varování:** V tomto jednoduchém případě se tabulka načetla správně hned na první pokus, bez jakýchkoliv specifických parametrů, všechny sloupce se zdají obsahovat použitelné hodnoty. To je (zejména u formátu CSV) vlastně z pekla štěstí. Obvykle jsou se vstupními daty problémy - kupříkladu nemají popsané sloupce (případně je mají popsané podivně), používají zvláštní oddělovače záznamů nebo desetinné části čísel, mnohé řádky obsahují chybějící (nebo špatně opsané) hodnoty, ... **Čištění dat** se budeme věnovat někdy příště.\n",
    "\n",
    "Co je ten objekt uložený v proměnné `data` vlastně zač? Jaké je třídy?"
   ]
  },
  {
   "cell_type": "markdown",
   "metadata": {},
   "source": [
    "## Základní třídy v `pandas` - DataFrame, Series, Index"
   ]
  },
  {
   "cell_type": "code",
   "execution_count": 4,
   "metadata": {},
   "outputs": [
    {
     "data": {
      "text/plain": [
       "pandas.core.frame.DataFrame"
      ]
     },
     "execution_count": 4,
     "metadata": {},
     "output_type": "execute_result"
    }
   ],
   "source": [
    "type(data)"
   ]
  },
  {
   "cell_type": "markdown",
   "metadata": {},
   "source": [
    "Odpověď zní `DataFrame`. Tento termín (používaný i v dalších oblíbených statistických jazycích, například \"R\") je nespíš bez českého ekvivalentu, a tak nadále budeme mluvit o tabulkách či o instancích třídy DataFrame. Pokusme se nyní náš první DataFrame rozpitvat.\n",
    "\n",
    "⚠️ **Varování:** Jistě si brzy všimneš, že se `DataFrame` svými funkcemi hodně podobná sešitu v tabulkovém procesoru, ale je potřeba si uvědomit, kde tato paralela končí. Na rozdíl od sešitů v Excelu nebo LibreOffice Calcu DataFrame obsahuje \"pouze\" suchá data, neukládá žádné formátování a nenabízí žádný \"editor\". Pěkná vizuální reprezentace je jen otázkou souhry `pandas` s Jupyter notebookem, případně pro to můžeš napsat vlastní kód."
   ]
  },
  {
   "cell_type": "code",
   "execution_count": 5,
   "metadata": {},
   "outputs": [
    {
     "data": {
      "text/plain": [
       "0        bulbasaur\n",
       "1          ivysaur\n",
       "2         venusaur\n",
       "3       charmander\n",
       "4       charmeleon\n",
       "          ...     \n",
       "802        poipole\n",
       "803      naganadel\n",
       "804      stakataka\n",
       "805    blacephalon\n",
       "806        zeraora\n",
       "Name: name, Length: 807, dtype: object"
      ]
     },
     "execution_count": 5,
     "metadata": {},
     "output_type": "execute_result"
    }
   ],
   "source": [
    "sloupec = data[\"name\"]\n",
    "sloupec"
   ]
  },
  {
   "cell_type": "markdown",
   "metadata": {},
   "source": [
    "💡 DataFrame se mimo jiné chová podobně jako slovník (`dict`) - když do hranatých závorek vložíš nějaký klíč, získáš takto pojmenovaný sloupec. Ve skutečnosti hranaté závorky (\"square brackets\") umožňují vybírat z tabulek na základě různých dalších kritérií, ale k tomu se ještě dostaneme.\n",
    "\n",
    "Naše pitva pokračuje zjištěním, co je zač `sloupec`."
   ]
  },
  {
   "cell_type": "code",
   "execution_count": 6,
   "metadata": {},
   "outputs": [
    {
     "data": {
      "text/plain": [
       "pandas.core.series.Series"
      ]
     },
     "execution_count": 6,
     "metadata": {},
     "output_type": "execute_result"
    }
   ],
   "source": [
    "type(sloupec)"
   ]
  },
  {
   "cell_type": "markdown",
   "metadata": {},
   "source": [
    "### Series"
   ]
  },
  {
   "cell_type": "markdown",
   "metadata": {},
   "source": [
    "Sloupce jsou typu `Series` (česky \"řada\", ale ani toto slovo nebudeme používat). Tento typ vypadá jako seznam (`list`). Ověříme si, jestli se tak i chová:"
   ]
  },
  {
   "cell_type": "code",
   "execution_count": 7,
   "metadata": {},
   "outputs": [
    {
     "data": {
      "text/plain": [
       "'bulbasaur'"
      ]
     },
     "execution_count": 7,
     "metadata": {},
     "output_type": "execute_result"
    }
   ],
   "source": [
    "sloupec[0]     # První jméno? ✓"
   ]
  },
  {
   "cell_type": "code",
   "execution_count": 8,
   "metadata": {},
   "outputs": [
    {
     "data": {
      "text/plain": [
       "802        poipole\n",
       "803      naganadel\n",
       "804      stakataka\n",
       "805    blacephalon\n",
       "806        zeraora\n",
       "Name: name, dtype: object"
      ]
     },
     "execution_count": 8,
     "metadata": {},
     "output_type": "execute_result"
    }
   ],
   "source": [
    "sloupec[-5:]   # Posledních pět jmen? ✓"
   ]
  },
  {
   "cell_type": "markdown",
   "metadata": {},
   "source": [
    "**Úkol**: Zkus ještě nějaké další operace se seznamy, které už umíš, aplikovat i na `sloupec`. Někdy to půjde, někdy ne."
   ]
  },
  {
   "cell_type": "markdown",
   "metadata": {},
   "source": [
    "Není také žádný problém mezi seznamy a `Series` převádět. Vůbec nejjednodušší způsob, jak můžeš vytvořit vlastní Series (pomni, že mimo kontext tabulky), je vytvořit instanci této třídy s nějakým seznamem jako argumentem:"
   ]
  },
  {
   "cell_type": "code",
   "execution_count": 9,
   "metadata": {},
   "outputs": [
    {
     "data": {
      "text/plain": [
       "0    1\n",
       "1    2\n",
       "2    3\n",
       "dtype: int64"
      ]
     },
     "execution_count": 9,
     "metadata": {},
     "output_type": "execute_result"
    }
   ],
   "source": [
    "series = pd.Series([1, 2, 3])\n",
    "series"
   ]
  },
  {
   "cell_type": "markdown",
   "metadata": {},
   "source": [
    "A jde to i naopak:"
   ]
  },
  {
   "cell_type": "code",
   "execution_count": 10,
   "metadata": {},
   "outputs": [
    {
     "data": {
      "text/plain": [
       "[1, 2, 3]"
      ]
     },
     "execution_count": 10,
     "metadata": {},
     "output_type": "execute_result"
    }
   ],
   "source": [
    "series.tolist()     # Varianta 1 (preferovaná, rychlejší)\n",
    "list(series)        # Varianta 2"
   ]
  },
  {
   "cell_type": "markdown",
   "metadata": {},
   "source": [
    "Čím se tedy `Series` od seznamu liší a v čem spočívá jeho výhoda?\n",
    "\n",
    "Každý sloupec má především následujících pět základních vlastností:"
   ]
  },
  {
   "cell_type": "markdown",
   "metadata": {},
   "source": [
    "<img src=\"static/series.svg\" style=\"max-height: 20em;\">"
   ]
  },
  {
   "cell_type": "markdown",
   "metadata": {},
   "source": [
    "#### 1) hodnoty - `.values`"
   ]
  },
  {
   "cell_type": "code",
   "execution_count": 11,
   "metadata": {},
   "outputs": [
    {
     "data": {
      "text/plain": [
       "array(['bulbasaur', 'ivysaur', 'venusaur', 'charmander', 'charmeleon',\n",
       "       'charizard', 'squirtle', 'wartortle', 'blastoise', 'caterpie',\n",
       "       'metapod', 'butterfree', 'weedle', 'kakuna', 'beedrill', 'pidgey',\n",
       "       'pidgeotto', 'pidgeot', 'rattata', 'raticate', 'spearow', 'fearow',\n",
       "       'ekans', 'arbok', 'pikachu', 'raichu', 'sandshrew', 'sandslash',\n",
       "       'nidoran-f', 'nidorina', 'nidoqueen', 'nidoran-m', 'nidorino',\n",
       "       'nidoking', 'clefairy', 'clefable', 'vulpix', 'ninetales',\n",
       "       'jigglypuff', 'wigglytuff', 'zubat', 'golbat', 'oddish', 'gloom',\n",
       "       'vileplume', 'paras', 'parasect', 'venonat', 'venomoth', 'diglett',\n",
       "       'dugtrio', 'meowth', 'persian', 'psyduck', 'golduck', 'mankey',\n",
       "       'primeape', 'growlithe', 'arcanine', 'poliwag', 'poliwhirl',\n",
       "       'poliwrath', 'abra', 'kadabra', 'alakazam', 'machop', 'machoke',\n",
       "       'machamp', 'bellsprout', 'weepinbell', 'victreebel', 'tentacool',\n",
       "       'tentacruel', 'geodude', 'graveler', 'golem', 'ponyta', 'rapidash',\n",
       "       'slowpoke', 'slowbro', 'magnemite', 'magneton', 'farfetchd',\n",
       "       'doduo', 'dodrio', 'seel', 'dewgong', 'grimer', 'muk', 'shellder',\n",
       "       'cloyster', 'gastly', 'haunter', 'gengar', 'onix', 'drowzee',\n",
       "       'hypno', 'krabby', 'kingler', 'voltorb'], dtype=object)"
      ]
     },
     "execution_count": 11,
     "metadata": {},
     "output_type": "execute_result"
    }
   ],
   "source": [
    "sloupec[:100].values    # Z estetických důvodů si sloupec trochu zkrátíme"
   ]
  },
  {
   "cell_type": "code",
   "execution_count": 12,
   "metadata": {},
   "outputs": [
    {
     "data": {
      "text/plain": [
       "numpy.ndarray"
      ]
     },
     "execution_count": 12,
     "metadata": {},
     "output_type": "execute_result"
    }
   ],
   "source": [
    "type(sloupec.values)"
   ]
  },
  {
   "cell_type": "markdown",
   "metadata": {},
   "source": [
    "💡 Hodnoty jsou v Series uloženy ve speciálním formátu postaveném na typu `ndarray` z knihovny `numpy`. Té se věnovat nebudeme, ale zejména v případě numerických hodnot ušetří místo v paměti a zrychlí matematické operace (například sečíst všechny hodnoty v Series je výrazně rychlejší než v seznamu)."
   ]
  },
  {
   "cell_type": "markdown",
   "metadata": {},
   "source": [
    "#### 2) typ hodnot - `.dtype`"
   ]
  },
  {
   "cell_type": "code",
   "execution_count": 13,
   "metadata": {},
   "outputs": [
    {
     "data": {
      "text/plain": [
       "dtype('O')"
      ]
     },
     "execution_count": 13,
     "metadata": {},
     "output_type": "execute_result"
    }
   ],
   "source": [
    "sloupec.dtype"
   ]
  },
  {
   "cell_type": "markdown",
   "metadata": {},
   "source": [
    "💡 Na rozdíl od seznamů by všechny prvky `Series` měly být stejného typu (pokud nejsou, zvolí se nejbližší společný nadtyp). `pandas` má vlastní sadu typů, tzv. **dtypes**, která částečně kopíruje výchozí datové typy v Pythonu, ale (zejména u numerických typů) se blíží více k tomu, jak s nimi pracuje procesor. A nehledejte u nich dědičnost (dobrá zpráva?). Nejběžnější typy si představíme u příležitosti operací, které se sloupci dají dělat."
   ]
  },
  {
   "cell_type": "markdown",
   "metadata": {},
   "source": [
    "#### 3) index - `.index`"
   ]
  },
  {
   "cell_type": "code",
   "execution_count": 14,
   "metadata": {},
   "outputs": [
    {
     "data": {
      "text/plain": [
       "RangeIndex(start=0, stop=807, step=1)"
      ]
     },
     "execution_count": 14,
     "metadata": {},
     "output_type": "execute_result"
    }
   ],
   "source": [
    "sloupec.index"
   ]
  },
  {
   "cell_type": "markdown",
   "metadata": {},
   "source": [
    "💡 K prvkům seznamu přistupuješ pomocí číselného pořadí (0 - první prvek, 1 - druhý, ...), ze slovníku vybíráš podle klíče, pandas zavádí zobecněný **index**, který může být číselný, řetězcový, ale třeba i postavený na datu/času. O různých indexech viz níže."
   ]
  },
  {
   "cell_type": "markdown",
   "metadata": {},
   "source": [
    "#### 4) jméno - `.name`"
   ]
  },
  {
   "cell_type": "code",
   "execution_count": 15,
   "metadata": {},
   "outputs": [
    {
     "data": {
      "text/plain": [
       "'name'"
      ]
     },
     "execution_count": 15,
     "metadata": {},
     "output_type": "execute_result"
    }
   ],
   "source": [
    "sloupec.name"
   ]
  },
  {
   "cell_type": "markdown",
   "metadata": {},
   "source": [
    "💡 `Series` může, ale nemusí mít jméno. Pozor, je to hodnota uložená uvnitř samotného objektu, nijak nesouvisí se jménem proměnné, do které ho uložíš (ale u sloupce v tabulce se použije pro přístup k němu)."
   ]
  },
  {
   "cell_type": "markdown",
   "metadata": {},
   "source": [
    "#### 5) velikost - `.size`"
   ]
  },
  {
   "cell_type": "code",
   "execution_count": 16,
   "metadata": {},
   "outputs": [
    {
     "data": {
      "text/plain": [
       "807"
      ]
     },
     "execution_count": 16,
     "metadata": {},
     "output_type": "execute_result"
    }
   ],
   "source": [
    "sloupec.size"
   ]
  },
  {
   "cell_type": "markdown",
   "metadata": {},
   "source": [
    "💡 Tato vlastnost říká, kolik je v `Series` prvků. Není nijak magická, chová se jako `len` u seznamu (a ostatně `len` lze použít i na `Series`). Pro úplnost uvádíme, že na rozdíl od ostatních vlastností je tato jen pro čtení."
   ]
  },
  {
   "cell_type": "markdown",
   "metadata": {},
   "source": [
    "**Úkol:** Zjisti hodnoty atributů `.name`, `.index`, `.dtype` a `.values` u objektu `series`. Všimneš si něčeho zajímavého?"
   ]
  },
  {
   "cell_type": "markdown",
   "metadata": {},
   "source": [
    "Při vytváření objektů `Series` lze tyto atributy (až na `size` a v omezené míře `dtype`) explicitně uvést:"
   ]
  },
  {
   "cell_type": "code",
   "execution_count": 17,
   "metadata": {},
   "outputs": [
    {
     "data": {
      "text/plain": [
       "Karla      27.0\n",
       "Martina    65.0\n",
       "Žofie      14.0\n",
       "Name: Věk, dtype: float64"
      ]
     },
     "execution_count": 17,
     "metadata": {},
     "output_type": "execute_result"
    }
   ],
   "source": [
    "vek = pd.Series(\n",
    "    [27, 65, 14],\n",
    "    name=\"Věk\",\n",
    "    index=[\"Karla\", \"Martina\", \"Žofie\"],\n",
    "    dtype=float,\n",
    ")\n",
    "vek"
   ]
  },
  {
   "cell_type": "markdown",
   "metadata": {},
   "source": [
    "## Index"
   ]
  },
  {
   "cell_type": "markdown",
   "metadata": {},
   "source": [
    "Ve výchozím stavu je u sloupců i tabulek použit bezejmenný číselný index, který řadí prvky po sobě od nuly výše:"
   ]
  },
  {
   "cell_type": "code",
   "execution_count": 18,
   "metadata": {},
   "outputs": [
    {
     "data": {
      "text/plain": [
       "RangeIndex(start=0, stop=807, step=1)"
      ]
     },
     "execution_count": 18,
     "metadata": {},
     "output_type": "execute_result"
    }
   ],
   "source": [
    "sloupec.index"
   ]
  },
  {
   "cell_type": "markdown",
   "metadata": {},
   "source": [
    "Nicméně existují i typy indexů:"
   ]
  },
  {
   "cell_type": "code",
   "execution_count": 19,
   "metadata": {},
   "outputs": [
    {
     "data": {
      "text/plain": [
       "Index(['Karla', 'Martina', 'Žofie'], dtype='object')"
      ]
     },
     "execution_count": 19,
     "metadata": {},
     "output_type": "execute_result"
    }
   ],
   "source": [
    "vek.index"
   ]
  },
  {
   "cell_type": "code",
   "execution_count": 38,
   "metadata": {},
   "outputs": [
    {
     "data": {
      "text/plain": [
       "1918    Nezávislost Československa\n",
       "1945     Konec druhé světové války\n",
       "1989             Sametová revoluce\n",
       "dtype: object"
      ]
     },
     "execution_count": 38,
     "metadata": {},
     "output_type": "execute_result"
    }
   ],
   "source": [
    "udalosti = pd.Series(\n",
    "    [\"Nezávislost Československa\", \"Konec druhé světové války\", \"Sametová revoluce\"],\n",
    "    index = [1918, 1945, 1989]\n",
    ")\n",
    "udalosti"
   ]
  },
  {
   "cell_type": "code",
   "execution_count": 39,
   "metadata": {},
   "outputs": [
    {
     "data": {
      "text/plain": [
       "Int64Index([1918, 1945, 1989], dtype='int64')"
      ]
     },
     "execution_count": 39,
     "metadata": {},
     "output_type": "execute_result"
    }
   ],
   "source": [
    "udalosti.index"
   ]
  },
  {
   "cell_type": "markdown",
   "metadata": {},
   "source": [
    "Tento index je číselný, ale hodnoty nejsou (resp. jsou, ale nemusely by být) srovnané a jsou \"děravé\"."
   ]
  },
  {
   "cell_type": "code",
   "execution_count": 35,
   "metadata": {},
   "outputs": [
    {
     "data": {
      "text/plain": [
       "DatetimeIndex(['1918-10-28', '1945-05-08', '1989-11-17'], dtype='datetime64[ns]', freq=None)"
      ]
     },
     "execution_count": 35,
     "metadata": {},
     "output_type": "execute_result"
    }
   ],
   "source": [
    "udalosti_presne = pd.Series(\n",
    "    [\"Nezávislost Československa\", \"Konec druhé světové války\", \"Sametová revoluce\"],\n",
    "    index = pd.DatetimeIndex(['1918-10-28', '1945-05-08', '1989-11-17'])\n",
    ")\n",
    "udalosti_presne.index"
   ]
  },
  {
   "cell_type": "markdown",
   "metadata": {},
   "source": [
    "Hodnoty indexu potom lze použít v přístupu k prvkům `Series`, podobně jako u slovníku. Možnosti jsou ale mnohem širší, ukážeme si je za chvíli v kontextu DataFrame."
   ]
  },
  {
   "cell_type": "code",
   "execution_count": 36,
   "metadata": {},
   "outputs": [
    {
     "data": {
      "text/plain": [
       "65.0"
      ]
     },
     "execution_count": 36,
     "metadata": {},
     "output_type": "execute_result"
    }
   ],
   "source": [
    "vek[\"Martina\"]"
   ]
  },
  {
   "cell_type": "markdown",
   "metadata": {},
   "source": [
    "## DataFrame"
   ]
  },
  {
   "cell_type": "markdown",
   "metadata": {},
   "source": [
    "Když už jsme se seznámili se sloupci a indexy, můžeme se vrátit k tabulce, resp. `DataFrame`."
   ]
  },
  {
   "cell_type": "markdown",
   "metadata": {},
   "source": [
    "<img src=\"static/df.svg\" style=\"max-height: 25em;\"/>"
   ]
  },
  {
   "cell_type": "markdown",
   "metadata": {},
   "source": [
    "### Indexování\n",
    "\n",
    "Využijeme toho, \n",
    "\n",
    "TODO: Vysvětli set_index\n",
    "\n",
    "TODO: Vysvětli sort_index"
   ]
  },
  {
   "cell_type": "code",
   "execution_count": 22,
   "metadata": {},
   "outputs": [
    {
     "data": {
      "text/html": [
       "<div>\n",
       "<style scoped>\n",
       "    .dataframe tbody tr th:only-of-type {\n",
       "        vertical-align: middle;\n",
       "    }\n",
       "\n",
       "    .dataframe tbody tr th {\n",
       "        vertical-align: top;\n",
       "    }\n",
       "\n",
       "    .dataframe thead th {\n",
       "        text-align: right;\n",
       "    }\n",
       "</style>\n",
       "<table border=\"1\" class=\"dataframe\">\n",
       "  <thead>\n",
       "    <tr style=\"text-align: right;\">\n",
       "      <th></th>\n",
       "      <th>id</th>\n",
       "      <th>height</th>\n",
       "      <th>weight</th>\n",
       "      <th>color</th>\n",
       "      <th>shape</th>\n",
       "      <th>is baby</th>\n",
       "      <th>type 1</th>\n",
       "      <th>type 2</th>\n",
       "      <th>hp</th>\n",
       "      <th>attack</th>\n",
       "      <th>defense</th>\n",
       "      <th>speed</th>\n",
       "    </tr>\n",
       "    <tr>\n",
       "      <th>name</th>\n",
       "      <th></th>\n",
       "      <th></th>\n",
       "      <th></th>\n",
       "      <th></th>\n",
       "      <th></th>\n",
       "      <th></th>\n",
       "      <th></th>\n",
       "      <th></th>\n",
       "      <th></th>\n",
       "      <th></th>\n",
       "      <th></th>\n",
       "      <th></th>\n",
       "    </tr>\n",
       "  </thead>\n",
       "  <tbody>\n",
       "    <tr>\n",
       "      <td>abomasnow</td>\n",
       "      <td>460</td>\n",
       "      <td>2.2</td>\n",
       "      <td>135.5</td>\n",
       "      <td>white</td>\n",
       "      <td>upright</td>\n",
       "      <td>False</td>\n",
       "      <td>Grass</td>\n",
       "      <td>Ice</td>\n",
       "      <td>90</td>\n",
       "      <td>92</td>\n",
       "      <td>75</td>\n",
       "      <td>60</td>\n",
       "    </tr>\n",
       "    <tr>\n",
       "      <td>abra</td>\n",
       "      <td>63</td>\n",
       "      <td>0.9</td>\n",
       "      <td>19.5</td>\n",
       "      <td>brown</td>\n",
       "      <td>upright</td>\n",
       "      <td>False</td>\n",
       "      <td>Psychic</td>\n",
       "      <td>NaN</td>\n",
       "      <td>25</td>\n",
       "      <td>20</td>\n",
       "      <td>15</td>\n",
       "      <td>90</td>\n",
       "    </tr>\n",
       "    <tr>\n",
       "      <td>absol</td>\n",
       "      <td>359</td>\n",
       "      <td>1.2</td>\n",
       "      <td>47.0</td>\n",
       "      <td>white</td>\n",
       "      <td>quadruped</td>\n",
       "      <td>False</td>\n",
       "      <td>Dark</td>\n",
       "      <td>NaN</td>\n",
       "      <td>65</td>\n",
       "      <td>130</td>\n",
       "      <td>60</td>\n",
       "      <td>75</td>\n",
       "    </tr>\n",
       "    <tr>\n",
       "      <td>accelgor</td>\n",
       "      <td>617</td>\n",
       "      <td>0.8</td>\n",
       "      <td>25.3</td>\n",
       "      <td>red</td>\n",
       "      <td>arms</td>\n",
       "      <td>False</td>\n",
       "      <td>Bug</td>\n",
       "      <td>NaN</td>\n",
       "      <td>80</td>\n",
       "      <td>70</td>\n",
       "      <td>40</td>\n",
       "      <td>145</td>\n",
       "    </tr>\n",
       "    <tr>\n",
       "      <td>aegislash</td>\n",
       "      <td>681</td>\n",
       "      <td>1.7</td>\n",
       "      <td>53.0</td>\n",
       "      <td>brown</td>\n",
       "      <td>blob</td>\n",
       "      <td>False</td>\n",
       "      <td>Steel</td>\n",
       "      <td>Ghost</td>\n",
       "      <td>60</td>\n",
       "      <td>50</td>\n",
       "      <td>150</td>\n",
       "      <td>60</td>\n",
       "    </tr>\n",
       "    <tr>\n",
       "      <td>...</td>\n",
       "      <td>...</td>\n",
       "      <td>...</td>\n",
       "      <td>...</td>\n",
       "      <td>...</td>\n",
       "      <td>...</td>\n",
       "      <td>...</td>\n",
       "      <td>...</td>\n",
       "      <td>...</td>\n",
       "      <td>...</td>\n",
       "      <td>...</td>\n",
       "      <td>...</td>\n",
       "      <td>...</td>\n",
       "    </tr>\n",
       "    <tr>\n",
       "      <td>zoroark</td>\n",
       "      <td>571</td>\n",
       "      <td>1.6</td>\n",
       "      <td>81.1</td>\n",
       "      <td>gray</td>\n",
       "      <td>upright</td>\n",
       "      <td>False</td>\n",
       "      <td>Dark</td>\n",
       "      <td>NaN</td>\n",
       "      <td>60</td>\n",
       "      <td>105</td>\n",
       "      <td>60</td>\n",
       "      <td>105</td>\n",
       "    </tr>\n",
       "    <tr>\n",
       "      <td>zorua</td>\n",
       "      <td>570</td>\n",
       "      <td>0.7</td>\n",
       "      <td>12.5</td>\n",
       "      <td>gray</td>\n",
       "      <td>quadruped</td>\n",
       "      <td>False</td>\n",
       "      <td>Dark</td>\n",
       "      <td>NaN</td>\n",
       "      <td>40</td>\n",
       "      <td>65</td>\n",
       "      <td>40</td>\n",
       "      <td>65</td>\n",
       "    </tr>\n",
       "    <tr>\n",
       "      <td>zubat</td>\n",
       "      <td>41</td>\n",
       "      <td>0.8</td>\n",
       "      <td>7.5</td>\n",
       "      <td>purple</td>\n",
       "      <td>wings</td>\n",
       "      <td>False</td>\n",
       "      <td>Poison</td>\n",
       "      <td>Flying</td>\n",
       "      <td>40</td>\n",
       "      <td>45</td>\n",
       "      <td>35</td>\n",
       "      <td>55</td>\n",
       "    </tr>\n",
       "    <tr>\n",
       "      <td>zweilous</td>\n",
       "      <td>634</td>\n",
       "      <td>1.4</td>\n",
       "      <td>50.0</td>\n",
       "      <td>blue</td>\n",
       "      <td>quadruped</td>\n",
       "      <td>False</td>\n",
       "      <td>Dark</td>\n",
       "      <td>Dragon</td>\n",
       "      <td>72</td>\n",
       "      <td>85</td>\n",
       "      <td>70</td>\n",
       "      <td>58</td>\n",
       "    </tr>\n",
       "    <tr>\n",
       "      <td>zygarde</td>\n",
       "      <td>718</td>\n",
       "      <td>5.0</td>\n",
       "      <td>305.0</td>\n",
       "      <td>green</td>\n",
       "      <td>squiggle</td>\n",
       "      <td>False</td>\n",
       "      <td>Dragon</td>\n",
       "      <td>Ground</td>\n",
       "      <td>108</td>\n",
       "      <td>100</td>\n",
       "      <td>121</td>\n",
       "      <td>95</td>\n",
       "    </tr>\n",
       "  </tbody>\n",
       "</table>\n",
       "<p>807 rows × 12 columns</p>\n",
       "</div>"
      ],
      "text/plain": [
       "            id  height  weight   color      shape  is baby   type 1  type 2  \\\n",
       "name                                                                          \n",
       "abomasnow  460     2.2   135.5   white    upright    False    Grass     Ice   \n",
       "abra        63     0.9    19.5   brown    upright    False  Psychic     NaN   \n",
       "absol      359     1.2    47.0   white  quadruped    False     Dark     NaN   \n",
       "accelgor   617     0.8    25.3     red       arms    False      Bug     NaN   \n",
       "aegislash  681     1.7    53.0   brown       blob    False    Steel   Ghost   \n",
       "...        ...     ...     ...     ...        ...      ...      ...     ...   \n",
       "zoroark    571     1.6    81.1    gray    upright    False     Dark     NaN   \n",
       "zorua      570     0.7    12.5    gray  quadruped    False     Dark     NaN   \n",
       "zubat       41     0.8     7.5  purple      wings    False   Poison  Flying   \n",
       "zweilous   634     1.4    50.0    blue  quadruped    False     Dark  Dragon   \n",
       "zygarde    718     5.0   305.0   green   squiggle    False   Dragon  Ground   \n",
       "\n",
       "            hp  attack  defense  speed  \n",
       "name                                    \n",
       "abomasnow   90      92       75     60  \n",
       "abra        25      20       15     90  \n",
       "absol       65     130       60     75  \n",
       "accelgor    80      70       40    145  \n",
       "aegislash   60      50      150     60  \n",
       "...        ...     ...      ...    ...  \n",
       "zoroark     60     105       60    105  \n",
       "zorua       40      65       40     65  \n",
       "zubat       40      45       35     55  \n",
       "zweilous    72      85       70     58  \n",
       "zygarde    108     100      121     95  \n",
       "\n",
       "[807 rows x 12 columns]"
      ]
     },
     "execution_count": 22,
     "metadata": {},
     "output_type": "execute_result"
    }
   ],
   "source": [
    "pokemoni = data.set_index(\"name\").sort_index()\n",
    "pokemoni"
   ]
  },
  {
   "cell_type": "code",
   "execution_count": 23,
   "metadata": {},
   "outputs": [
    {
     "data": {
      "text/plain": [
       "Index(['abomasnow', 'abra', 'absol', 'accelgor', 'aegislash', 'aerodactyl',\n",
       "       'aggron', 'aipom', 'alakazam', 'alomomola',\n",
       "       ...\n",
       "       'zapdos', 'zebstrika', 'zekrom', 'zeraora', 'zigzagoon', 'zoroark',\n",
       "       'zorua', 'zubat', 'zweilous', 'zygarde'],\n",
       "      dtype='object', name='name', length=807)"
      ]
     },
     "execution_count": 23,
     "metadata": {},
     "output_type": "execute_result"
    }
   ],
   "source": [
    "pokemoni.index"
   ]
  },
  {
   "cell_type": "code",
   "execution_count": 24,
   "metadata": {},
   "outputs": [
    {
     "data": {
      "text/plain": [
       "Index(['id', 'height', 'weight', 'color', 'shape', 'is baby', 'type 1',\n",
       "       'type 2', 'hp', 'attack', 'defense', 'speed'],\n",
       "      dtype='object')"
      ]
     },
     "execution_count": 24,
     "metadata": {},
     "output_type": "execute_result"
    }
   ],
   "source": [
    "pokemoni.columns"
   ]
  },
  {
   "cell_type": "code",
   "execution_count": 25,
   "metadata": {},
   "outputs": [
    {
     "data": {
      "text/plain": [
       "name\n",
       "abomasnow    2.2\n",
       "abra         0.9\n",
       "absol        1.2\n",
       "accelgor     0.8\n",
       "aegislash    1.7\n",
       "            ... \n",
       "zoroark      1.6\n",
       "zorua        0.7\n",
       "zubat        0.8\n",
       "zweilous     1.4\n",
       "zygarde      5.0\n",
       "Name: height, Length: 807, dtype: float64"
      ]
     },
     "execution_count": 25,
     "metadata": {},
     "output_type": "execute_result"
    }
   ],
   "source": [
    "pokemoni[\"height\"]"
   ]
  },
  {
   "cell_type": "code",
   "execution_count": 26,
   "metadata": {},
   "outputs": [
    {
     "data": {
      "text/html": [
       "<div>\n",
       "<style scoped>\n",
       "    .dataframe tbody tr th:only-of-type {\n",
       "        vertical-align: middle;\n",
       "    }\n",
       "\n",
       "    .dataframe tbody tr th {\n",
       "        vertical-align: top;\n",
       "    }\n",
       "\n",
       "    .dataframe thead th {\n",
       "        text-align: right;\n",
       "    }\n",
       "</style>\n",
       "<table border=\"1\" class=\"dataframe\">\n",
       "  <thead>\n",
       "    <tr style=\"text-align: right;\">\n",
       "      <th></th>\n",
       "      <th>height</th>\n",
       "      <th>weight</th>\n",
       "    </tr>\n",
       "    <tr>\n",
       "      <th>name</th>\n",
       "      <th></th>\n",
       "      <th></th>\n",
       "    </tr>\n",
       "  </thead>\n",
       "  <tbody>\n",
       "    <tr>\n",
       "      <td>abomasnow</td>\n",
       "      <td>2.2</td>\n",
       "      <td>135.5</td>\n",
       "    </tr>\n",
       "    <tr>\n",
       "      <td>abra</td>\n",
       "      <td>0.9</td>\n",
       "      <td>19.5</td>\n",
       "    </tr>\n",
       "    <tr>\n",
       "      <td>absol</td>\n",
       "      <td>1.2</td>\n",
       "      <td>47.0</td>\n",
       "    </tr>\n",
       "    <tr>\n",
       "      <td>accelgor</td>\n",
       "      <td>0.8</td>\n",
       "      <td>25.3</td>\n",
       "    </tr>\n",
       "    <tr>\n",
       "      <td>aegislash</td>\n",
       "      <td>1.7</td>\n",
       "      <td>53.0</td>\n",
       "    </tr>\n",
       "    <tr>\n",
       "      <td>...</td>\n",
       "      <td>...</td>\n",
       "      <td>...</td>\n",
       "    </tr>\n",
       "    <tr>\n",
       "      <td>zoroark</td>\n",
       "      <td>1.6</td>\n",
       "      <td>81.1</td>\n",
       "    </tr>\n",
       "    <tr>\n",
       "      <td>zorua</td>\n",
       "      <td>0.7</td>\n",
       "      <td>12.5</td>\n",
       "    </tr>\n",
       "    <tr>\n",
       "      <td>zubat</td>\n",
       "      <td>0.8</td>\n",
       "      <td>7.5</td>\n",
       "    </tr>\n",
       "    <tr>\n",
       "      <td>zweilous</td>\n",
       "      <td>1.4</td>\n",
       "      <td>50.0</td>\n",
       "    </tr>\n",
       "    <tr>\n",
       "      <td>zygarde</td>\n",
       "      <td>5.0</td>\n",
       "      <td>305.0</td>\n",
       "    </tr>\n",
       "  </tbody>\n",
       "</table>\n",
       "<p>807 rows × 2 columns</p>\n",
       "</div>"
      ],
      "text/plain": [
       "           height  weight\n",
       "name                     \n",
       "abomasnow     2.2   135.5\n",
       "abra          0.9    19.5\n",
       "absol         1.2    47.0\n",
       "accelgor      0.8    25.3\n",
       "aegislash     1.7    53.0\n",
       "...           ...     ...\n",
       "zoroark       1.6    81.1\n",
       "zorua         0.7    12.5\n",
       "zubat         0.8     7.5\n",
       "zweilous      1.4    50.0\n",
       "zygarde       5.0   305.0\n",
       "\n",
       "[807 rows x 2 columns]"
      ]
     },
     "execution_count": 26,
     "metadata": {},
     "output_type": "execute_result"
    }
   ],
   "source": [
    "pokemoni[[\"height\", \"weight\"]]"
   ]
  },
  {
   "cell_type": "code",
   "execution_count": 27,
   "metadata": {},
   "outputs": [
    {
     "data": {
      "text/plain": [
       "id              63\n",
       "height         0.9\n",
       "weight        19.5\n",
       "color        brown\n",
       "shape      upright\n",
       "is baby      False\n",
       "type 1     Psychic\n",
       "type 2         NaN\n",
       "hp              25\n",
       "attack          20\n",
       "defense         15\n",
       "speed           90\n",
       "Name: abra, dtype: object"
      ]
     },
     "execution_count": 27,
     "metadata": {},
     "output_type": "execute_result"
    }
   ],
   "source": [
    "pokemoni.loc[\"abra\"]"
   ]
  },
  {
   "cell_type": "code",
   "execution_count": 28,
   "metadata": {},
   "outputs": [
    {
     "data": {
      "text/html": [
       "<div>\n",
       "<style scoped>\n",
       "    .dataframe tbody tr th:only-of-type {\n",
       "        vertical-align: middle;\n",
       "    }\n",
       "\n",
       "    .dataframe tbody tr th {\n",
       "        vertical-align: top;\n",
       "    }\n",
       "\n",
       "    .dataframe thead th {\n",
       "        text-align: right;\n",
       "    }\n",
       "</style>\n",
       "<table border=\"1\" class=\"dataframe\">\n",
       "  <thead>\n",
       "    <tr style=\"text-align: right;\">\n",
       "      <th></th>\n",
       "      <th>id</th>\n",
       "      <th>height</th>\n",
       "      <th>weight</th>\n",
       "      <th>color</th>\n",
       "      <th>shape</th>\n",
       "      <th>is baby</th>\n",
       "      <th>type 1</th>\n",
       "      <th>type 2</th>\n",
       "      <th>hp</th>\n",
       "      <th>attack</th>\n",
       "      <th>defense</th>\n",
       "      <th>speed</th>\n",
       "    </tr>\n",
       "    <tr>\n",
       "      <th>name</th>\n",
       "      <th></th>\n",
       "      <th></th>\n",
       "      <th></th>\n",
       "      <th></th>\n",
       "      <th></th>\n",
       "      <th></th>\n",
       "      <th></th>\n",
       "      <th></th>\n",
       "      <th></th>\n",
       "      <th></th>\n",
       "      <th></th>\n",
       "      <th></th>\n",
       "    </tr>\n",
       "  </thead>\n",
       "  <tbody>\n",
       "    <tr>\n",
       "      <td>zangoose</td>\n",
       "      <td>335</td>\n",
       "      <td>1.3</td>\n",
       "      <td>40.3</td>\n",
       "      <td>white</td>\n",
       "      <td>upright</td>\n",
       "      <td>False</td>\n",
       "      <td>Normal</td>\n",
       "      <td>NaN</td>\n",
       "      <td>73</td>\n",
       "      <td>115</td>\n",
       "      <td>60</td>\n",
       "      <td>90</td>\n",
       "    </tr>\n",
       "    <tr>\n",
       "      <td>zapdos</td>\n",
       "      <td>145</td>\n",
       "      <td>1.6</td>\n",
       "      <td>52.6</td>\n",
       "      <td>yellow</td>\n",
       "      <td>wings</td>\n",
       "      <td>False</td>\n",
       "      <td>Electric</td>\n",
       "      <td>Flying</td>\n",
       "      <td>90</td>\n",
       "      <td>90</td>\n",
       "      <td>85</td>\n",
       "      <td>100</td>\n",
       "    </tr>\n",
       "    <tr>\n",
       "      <td>zebstrika</td>\n",
       "      <td>523</td>\n",
       "      <td>1.6</td>\n",
       "      <td>79.5</td>\n",
       "      <td>black</td>\n",
       "      <td>quadruped</td>\n",
       "      <td>False</td>\n",
       "      <td>Electric</td>\n",
       "      <td>NaN</td>\n",
       "      <td>75</td>\n",
       "      <td>100</td>\n",
       "      <td>63</td>\n",
       "      <td>116</td>\n",
       "    </tr>\n",
       "    <tr>\n",
       "      <td>zekrom</td>\n",
       "      <td>644</td>\n",
       "      <td>2.9</td>\n",
       "      <td>345.0</td>\n",
       "      <td>black</td>\n",
       "      <td>upright</td>\n",
       "      <td>False</td>\n",
       "      <td>Dragon</td>\n",
       "      <td>Electric</td>\n",
       "      <td>100</td>\n",
       "      <td>150</td>\n",
       "      <td>120</td>\n",
       "      <td>90</td>\n",
       "    </tr>\n",
       "    <tr>\n",
       "      <td>zeraora</td>\n",
       "      <td>807</td>\n",
       "      <td>1.5</td>\n",
       "      <td>44.5</td>\n",
       "      <td>yellow</td>\n",
       "      <td>humanoid</td>\n",
       "      <td>False</td>\n",
       "      <td>Electric</td>\n",
       "      <td>NaN</td>\n",
       "      <td>88</td>\n",
       "      <td>112</td>\n",
       "      <td>75</td>\n",
       "      <td>143</td>\n",
       "    </tr>\n",
       "    <tr>\n",
       "      <td>zigzagoon</td>\n",
       "      <td>263</td>\n",
       "      <td>0.4</td>\n",
       "      <td>17.5</td>\n",
       "      <td>brown</td>\n",
       "      <td>quadruped</td>\n",
       "      <td>False</td>\n",
       "      <td>Normal</td>\n",
       "      <td>NaN</td>\n",
       "      <td>38</td>\n",
       "      <td>30</td>\n",
       "      <td>41</td>\n",
       "      <td>60</td>\n",
       "    </tr>\n",
       "    <tr>\n",
       "      <td>zoroark</td>\n",
       "      <td>571</td>\n",
       "      <td>1.6</td>\n",
       "      <td>81.1</td>\n",
       "      <td>gray</td>\n",
       "      <td>upright</td>\n",
       "      <td>False</td>\n",
       "      <td>Dark</td>\n",
       "      <td>NaN</td>\n",
       "      <td>60</td>\n",
       "      <td>105</td>\n",
       "      <td>60</td>\n",
       "      <td>105</td>\n",
       "    </tr>\n",
       "    <tr>\n",
       "      <td>zorua</td>\n",
       "      <td>570</td>\n",
       "      <td>0.7</td>\n",
       "      <td>12.5</td>\n",
       "      <td>gray</td>\n",
       "      <td>quadruped</td>\n",
       "      <td>False</td>\n",
       "      <td>Dark</td>\n",
       "      <td>NaN</td>\n",
       "      <td>40</td>\n",
       "      <td>65</td>\n",
       "      <td>40</td>\n",
       "      <td>65</td>\n",
       "    </tr>\n",
       "    <tr>\n",
       "      <td>zubat</td>\n",
       "      <td>41</td>\n",
       "      <td>0.8</td>\n",
       "      <td>7.5</td>\n",
       "      <td>purple</td>\n",
       "      <td>wings</td>\n",
       "      <td>False</td>\n",
       "      <td>Poison</td>\n",
       "      <td>Flying</td>\n",
       "      <td>40</td>\n",
       "      <td>45</td>\n",
       "      <td>35</td>\n",
       "      <td>55</td>\n",
       "    </tr>\n",
       "    <tr>\n",
       "      <td>zweilous</td>\n",
       "      <td>634</td>\n",
       "      <td>1.4</td>\n",
       "      <td>50.0</td>\n",
       "      <td>blue</td>\n",
       "      <td>quadruped</td>\n",
       "      <td>False</td>\n",
       "      <td>Dark</td>\n",
       "      <td>Dragon</td>\n",
       "      <td>72</td>\n",
       "      <td>85</td>\n",
       "      <td>70</td>\n",
       "      <td>58</td>\n",
       "    </tr>\n",
       "    <tr>\n",
       "      <td>zygarde</td>\n",
       "      <td>718</td>\n",
       "      <td>5.0</td>\n",
       "      <td>305.0</td>\n",
       "      <td>green</td>\n",
       "      <td>squiggle</td>\n",
       "      <td>False</td>\n",
       "      <td>Dragon</td>\n",
       "      <td>Ground</td>\n",
       "      <td>108</td>\n",
       "      <td>100</td>\n",
       "      <td>121</td>\n",
       "      <td>95</td>\n",
       "    </tr>\n",
       "  </tbody>\n",
       "</table>\n",
       "</div>"
      ],
      "text/plain": [
       "            id  height  weight   color      shape  is baby    type 1  \\\n",
       "name                                                                   \n",
       "zangoose   335     1.3    40.3   white    upright    False    Normal   \n",
       "zapdos     145     1.6    52.6  yellow      wings    False  Electric   \n",
       "zebstrika  523     1.6    79.5   black  quadruped    False  Electric   \n",
       "zekrom     644     2.9   345.0   black    upright    False    Dragon   \n",
       "zeraora    807     1.5    44.5  yellow   humanoid    False  Electric   \n",
       "zigzagoon  263     0.4    17.5   brown  quadruped    False    Normal   \n",
       "zoroark    571     1.6    81.1    gray    upright    False      Dark   \n",
       "zorua      570     0.7    12.5    gray  quadruped    False      Dark   \n",
       "zubat       41     0.8     7.5  purple      wings    False    Poison   \n",
       "zweilous   634     1.4    50.0    blue  quadruped    False      Dark   \n",
       "zygarde    718     5.0   305.0   green   squiggle    False    Dragon   \n",
       "\n",
       "             type 2   hp  attack  defense  speed  \n",
       "name                                              \n",
       "zangoose        NaN   73     115       60     90  \n",
       "zapdos       Flying   90      90       85    100  \n",
       "zebstrika       NaN   75     100       63    116  \n",
       "zekrom     Electric  100     150      120     90  \n",
       "zeraora         NaN   88     112       75    143  \n",
       "zigzagoon       NaN   38      30       41     60  \n",
       "zoroark         NaN   60     105       60    105  \n",
       "zorua           NaN   40      65       40     65  \n",
       "zubat        Flying   40      45       35     55  \n",
       "zweilous     Dragon   72      85       70     58  \n",
       "zygarde      Ground  108     100      121     95  "
      ]
     },
     "execution_count": 28,
     "metadata": {},
     "output_type": "execute_result"
    }
   ],
   "source": [
    "pokemoni.loc[\"z\":]"
   ]
  },
  {
   "cell_type": "code",
   "execution_count": 29,
   "metadata": {},
   "outputs": [
    {
     "data": {
      "text/plain": [
       "id                15\n",
       "height             1\n",
       "weight          29.5\n",
       "color         yellow\n",
       "shape      bug-wings\n",
       "is baby        False\n",
       "type 1           Bug\n",
       "type 2        Poison\n",
       "hp                65\n",
       "attack            90\n",
       "defense           40\n",
       "speed             75\n",
       "Name: beedrill, dtype: object"
      ]
     },
     "execution_count": 29,
     "metadata": {},
     "output_type": "execute_result"
    }
   ],
   "source": [
    "pokemoni.iloc[44]"
   ]
  },
  {
   "cell_type": "code",
   "execution_count": 30,
   "metadata": {},
   "outputs": [
    {
     "data": {
      "text/html": [
       "<div>\n",
       "<style scoped>\n",
       "    .dataframe tbody tr th:only-of-type {\n",
       "        vertical-align: middle;\n",
       "    }\n",
       "\n",
       "    .dataframe tbody tr th {\n",
       "        vertical-align: top;\n",
       "    }\n",
       "\n",
       "    .dataframe thead th {\n",
       "        text-align: right;\n",
       "    }\n",
       "</style>\n",
       "<table border=\"1\" class=\"dataframe\">\n",
       "  <thead>\n",
       "    <tr style=\"text-align: right;\">\n",
       "      <th></th>\n",
       "      <th>id</th>\n",
       "      <th>height</th>\n",
       "      <th>weight</th>\n",
       "      <th>color</th>\n",
       "      <th>shape</th>\n",
       "      <th>is baby</th>\n",
       "      <th>type 1</th>\n",
       "      <th>type 2</th>\n",
       "      <th>hp</th>\n",
       "      <th>attack</th>\n",
       "      <th>defense</th>\n",
       "      <th>speed</th>\n",
       "    </tr>\n",
       "    <tr>\n",
       "      <th>name</th>\n",
       "      <th></th>\n",
       "      <th></th>\n",
       "      <th></th>\n",
       "      <th></th>\n",
       "      <th></th>\n",
       "      <th></th>\n",
       "      <th></th>\n",
       "      <th></th>\n",
       "      <th></th>\n",
       "      <th></th>\n",
       "      <th></th>\n",
       "      <th></th>\n",
       "    </tr>\n",
       "  </thead>\n",
       "  <tbody>\n",
       "    <tr>\n",
       "      <td>zapdos</td>\n",
       "      <td>145</td>\n",
       "      <td>1.6</td>\n",
       "      <td>52.6</td>\n",
       "      <td>yellow</td>\n",
       "      <td>wings</td>\n",
       "      <td>False</td>\n",
       "      <td>Electric</td>\n",
       "      <td>Flying</td>\n",
       "      <td>90</td>\n",
       "      <td>90</td>\n",
       "      <td>85</td>\n",
       "      <td>100</td>\n",
       "    </tr>\n",
       "    <tr>\n",
       "      <td>zebstrika</td>\n",
       "      <td>523</td>\n",
       "      <td>1.6</td>\n",
       "      <td>79.5</td>\n",
       "      <td>black</td>\n",
       "      <td>quadruped</td>\n",
       "      <td>False</td>\n",
       "      <td>Electric</td>\n",
       "      <td>NaN</td>\n",
       "      <td>75</td>\n",
       "      <td>100</td>\n",
       "      <td>63</td>\n",
       "      <td>116</td>\n",
       "    </tr>\n",
       "    <tr>\n",
       "      <td>zekrom</td>\n",
       "      <td>644</td>\n",
       "      <td>2.9</td>\n",
       "      <td>345.0</td>\n",
       "      <td>black</td>\n",
       "      <td>upright</td>\n",
       "      <td>False</td>\n",
       "      <td>Dragon</td>\n",
       "      <td>Electric</td>\n",
       "      <td>100</td>\n",
       "      <td>150</td>\n",
       "      <td>120</td>\n",
       "      <td>90</td>\n",
       "    </tr>\n",
       "    <tr>\n",
       "      <td>zeraora</td>\n",
       "      <td>807</td>\n",
       "      <td>1.5</td>\n",
       "      <td>44.5</td>\n",
       "      <td>yellow</td>\n",
       "      <td>humanoid</td>\n",
       "      <td>False</td>\n",
       "      <td>Electric</td>\n",
       "      <td>NaN</td>\n",
       "      <td>88</td>\n",
       "      <td>112</td>\n",
       "      <td>75</td>\n",
       "      <td>143</td>\n",
       "    </tr>\n",
       "    <tr>\n",
       "      <td>zigzagoon</td>\n",
       "      <td>263</td>\n",
       "      <td>0.4</td>\n",
       "      <td>17.5</td>\n",
       "      <td>brown</td>\n",
       "      <td>quadruped</td>\n",
       "      <td>False</td>\n",
       "      <td>Normal</td>\n",
       "      <td>NaN</td>\n",
       "      <td>38</td>\n",
       "      <td>30</td>\n",
       "      <td>41</td>\n",
       "      <td>60</td>\n",
       "    </tr>\n",
       "    <tr>\n",
       "      <td>zoroark</td>\n",
       "      <td>571</td>\n",
       "      <td>1.6</td>\n",
       "      <td>81.1</td>\n",
       "      <td>gray</td>\n",
       "      <td>upright</td>\n",
       "      <td>False</td>\n",
       "      <td>Dark</td>\n",
       "      <td>NaN</td>\n",
       "      <td>60</td>\n",
       "      <td>105</td>\n",
       "      <td>60</td>\n",
       "      <td>105</td>\n",
       "    </tr>\n",
       "    <tr>\n",
       "      <td>zorua</td>\n",
       "      <td>570</td>\n",
       "      <td>0.7</td>\n",
       "      <td>12.5</td>\n",
       "      <td>gray</td>\n",
       "      <td>quadruped</td>\n",
       "      <td>False</td>\n",
       "      <td>Dark</td>\n",
       "      <td>NaN</td>\n",
       "      <td>40</td>\n",
       "      <td>65</td>\n",
       "      <td>40</td>\n",
       "      <td>65</td>\n",
       "    </tr>\n",
       "    <tr>\n",
       "      <td>zubat</td>\n",
       "      <td>41</td>\n",
       "      <td>0.8</td>\n",
       "      <td>7.5</td>\n",
       "      <td>purple</td>\n",
       "      <td>wings</td>\n",
       "      <td>False</td>\n",
       "      <td>Poison</td>\n",
       "      <td>Flying</td>\n",
       "      <td>40</td>\n",
       "      <td>45</td>\n",
       "      <td>35</td>\n",
       "      <td>55</td>\n",
       "    </tr>\n",
       "    <tr>\n",
       "      <td>zweilous</td>\n",
       "      <td>634</td>\n",
       "      <td>1.4</td>\n",
       "      <td>50.0</td>\n",
       "      <td>blue</td>\n",
       "      <td>quadruped</td>\n",
       "      <td>False</td>\n",
       "      <td>Dark</td>\n",
       "      <td>Dragon</td>\n",
       "      <td>72</td>\n",
       "      <td>85</td>\n",
       "      <td>70</td>\n",
       "      <td>58</td>\n",
       "    </tr>\n",
       "    <tr>\n",
       "      <td>zygarde</td>\n",
       "      <td>718</td>\n",
       "      <td>5.0</td>\n",
       "      <td>305.0</td>\n",
       "      <td>green</td>\n",
       "      <td>squiggle</td>\n",
       "      <td>False</td>\n",
       "      <td>Dragon</td>\n",
       "      <td>Ground</td>\n",
       "      <td>108</td>\n",
       "      <td>100</td>\n",
       "      <td>121</td>\n",
       "      <td>95</td>\n",
       "    </tr>\n",
       "  </tbody>\n",
       "</table>\n",
       "</div>"
      ],
      "text/plain": [
       "            id  height  weight   color      shape  is baby    type 1  \\\n",
       "name                                                                   \n",
       "zapdos     145     1.6    52.6  yellow      wings    False  Electric   \n",
       "zebstrika  523     1.6    79.5   black  quadruped    False  Electric   \n",
       "zekrom     644     2.9   345.0   black    upright    False    Dragon   \n",
       "zeraora    807     1.5    44.5  yellow   humanoid    False  Electric   \n",
       "zigzagoon  263     0.4    17.5   brown  quadruped    False    Normal   \n",
       "zoroark    571     1.6    81.1    gray    upright    False      Dark   \n",
       "zorua      570     0.7    12.5    gray  quadruped    False      Dark   \n",
       "zubat       41     0.8     7.5  purple      wings    False    Poison   \n",
       "zweilous   634     1.4    50.0    blue  quadruped    False      Dark   \n",
       "zygarde    718     5.0   305.0   green   squiggle    False    Dragon   \n",
       "\n",
       "             type 2   hp  attack  defense  speed  \n",
       "name                                              \n",
       "zapdos       Flying   90      90       85    100  \n",
       "zebstrika       NaN   75     100       63    116  \n",
       "zekrom     Electric  100     150      120     90  \n",
       "zeraora         NaN   88     112       75    143  \n",
       "zigzagoon       NaN   38      30       41     60  \n",
       "zoroark         NaN   60     105       60    105  \n",
       "zorua           NaN   40      65       40     65  \n",
       "zubat        Flying   40      45       35     55  \n",
       "zweilous     Dragon   72      85       70     58  \n",
       "zygarde      Ground  108     100      121     95  "
      ]
     },
     "execution_count": 30,
     "metadata": {},
     "output_type": "execute_result"
    }
   ],
   "source": [
    "pokemoni.iloc[-10:]"
   ]
  },
  {
   "cell_type": "code",
   "execution_count": 31,
   "metadata": {},
   "outputs": [
    {
     "data": {
      "text/plain": [
       "'gray'"
      ]
     },
     "execution_count": 31,
     "metadata": {},
     "output_type": "execute_result"
    }
   ],
   "source": [
    "pokemoni.loc[\"zorua\", \"color\"]"
   ]
  },
  {
   "cell_type": "code",
   "execution_count": 32,
   "metadata": {},
   "outputs": [
    {
     "data": {
      "text/html": [
       "<div>\n",
       "<style scoped>\n",
       "    .dataframe tbody tr th:only-of-type {\n",
       "        vertical-align: middle;\n",
       "    }\n",
       "\n",
       "    .dataframe tbody tr th {\n",
       "        vertical-align: top;\n",
       "    }\n",
       "\n",
       "    .dataframe thead th {\n",
       "        text-align: right;\n",
       "    }\n",
       "</style>\n",
       "<table border=\"1\" class=\"dataframe\">\n",
       "  <thead>\n",
       "    <tr style=\"text-align: right;\">\n",
       "      <th></th>\n",
       "      <th>color</th>\n",
       "      <th>attack</th>\n",
       "    </tr>\n",
       "    <tr>\n",
       "      <th>name</th>\n",
       "      <th></th>\n",
       "      <th></th>\n",
       "    </tr>\n",
       "  </thead>\n",
       "  <tbody>\n",
       "    <tr>\n",
       "      <td>jangmo-o</td>\n",
       "      <td>gray</td>\n",
       "      <td>55</td>\n",
       "    </tr>\n",
       "    <tr>\n",
       "      <td>jellicent</td>\n",
       "      <td>white</td>\n",
       "      <td>60</td>\n",
       "    </tr>\n",
       "    <tr>\n",
       "      <td>jigglypuff</td>\n",
       "      <td>pink</td>\n",
       "      <td>45</td>\n",
       "    </tr>\n",
       "    <tr>\n",
       "      <td>jirachi</td>\n",
       "      <td>yellow</td>\n",
       "      <td>100</td>\n",
       "    </tr>\n",
       "    <tr>\n",
       "      <td>jolteon</td>\n",
       "      <td>yellow</td>\n",
       "      <td>65</td>\n",
       "    </tr>\n",
       "    <tr>\n",
       "      <td>joltik</td>\n",
       "      <td>yellow</td>\n",
       "      <td>47</td>\n",
       "    </tr>\n",
       "    <tr>\n",
       "      <td>jumpluff</td>\n",
       "      <td>blue</td>\n",
       "      <td>55</td>\n",
       "    </tr>\n",
       "    <tr>\n",
       "      <td>jynx</td>\n",
       "      <td>red</td>\n",
       "      <td>50</td>\n",
       "    </tr>\n",
       "  </tbody>\n",
       "</table>\n",
       "</div>"
      ],
      "text/plain": [
       "             color  attack\n",
       "name                      \n",
       "jangmo-o      gray      55\n",
       "jellicent    white      60\n",
       "jigglypuff    pink      45\n",
       "jirachi     yellow     100\n",
       "jolteon     yellow      65\n",
       "joltik      yellow      47\n",
       "jumpluff      blue      55\n",
       "jynx           red      50"
      ]
     },
     "execution_count": 32,
     "metadata": {},
     "output_type": "execute_result"
    }
   ],
   "source": [
    "pokemoni.loc[\"j\":\"k\", [\"color\", \"attack\"]]"
   ]
  },
  {
   "cell_type": "code",
   "execution_count": 33,
   "metadata": {},
   "outputs": [
    {
     "data": {
      "text/html": [
       "<div>\n",
       "<style scoped>\n",
       "    .dataframe tbody tr th:only-of-type {\n",
       "        vertical-align: middle;\n",
       "    }\n",
       "\n",
       "    .dataframe tbody tr th {\n",
       "        vertical-align: top;\n",
       "    }\n",
       "\n",
       "    .dataframe thead th {\n",
       "        text-align: right;\n",
       "    }\n",
       "</style>\n",
       "<table border=\"1\" class=\"dataframe\">\n",
       "  <thead>\n",
       "    <tr style=\"text-align: right;\">\n",
       "      <th></th>\n",
       "      <th>id</th>\n",
       "      <th>height</th>\n",
       "      <th>weight</th>\n",
       "      <th>color</th>\n",
       "      <th>shape</th>\n",
       "      <th>is baby</th>\n",
       "      <th>type 1</th>\n",
       "      <th>type 2</th>\n",
       "      <th>hp</th>\n",
       "      <th>attack</th>\n",
       "      <th>defense</th>\n",
       "      <th>speed</th>\n",
       "    </tr>\n",
       "    <tr>\n",
       "      <th>name</th>\n",
       "      <th></th>\n",
       "      <th></th>\n",
       "      <th></th>\n",
       "      <th></th>\n",
       "      <th></th>\n",
       "      <th></th>\n",
       "      <th></th>\n",
       "      <th></th>\n",
       "      <th></th>\n",
       "      <th></th>\n",
       "      <th></th>\n",
       "      <th></th>\n",
       "    </tr>\n",
       "  </thead>\n",
       "  <tbody>\n",
       "    <tr>\n",
       "      <td>abomasnow</td>\n",
       "      <td>460</td>\n",
       "      <td>2.2</td>\n",
       "      <td>135.5</td>\n",
       "      <td>white</td>\n",
       "      <td>upright</td>\n",
       "      <td>False</td>\n",
       "      <td>Grass</td>\n",
       "      <td>Ice</td>\n",
       "      <td>90</td>\n",
       "      <td>92</td>\n",
       "      <td>75</td>\n",
       "      <td>60</td>\n",
       "    </tr>\n",
       "    <tr>\n",
       "      <td>abra</td>\n",
       "      <td>63</td>\n",
       "      <td>0.9</td>\n",
       "      <td>19.5</td>\n",
       "      <td>brown</td>\n",
       "      <td>upright</td>\n",
       "      <td>False</td>\n",
       "      <td>Psychic</td>\n",
       "      <td>NaN</td>\n",
       "      <td>25</td>\n",
       "      <td>20</td>\n",
       "      <td>15</td>\n",
       "      <td>90</td>\n",
       "    </tr>\n",
       "    <tr>\n",
       "      <td>absol</td>\n",
       "      <td>359</td>\n",
       "      <td>1.2</td>\n",
       "      <td>47.0</td>\n",
       "      <td>white</td>\n",
       "      <td>quadruped</td>\n",
       "      <td>False</td>\n",
       "      <td>Dark</td>\n",
       "      <td>NaN</td>\n",
       "      <td>65</td>\n",
       "      <td>130</td>\n",
       "      <td>60</td>\n",
       "      <td>75</td>\n",
       "    </tr>\n",
       "    <tr>\n",
       "      <td>accelgor</td>\n",
       "      <td>617</td>\n",
       "      <td>0.8</td>\n",
       "      <td>25.3</td>\n",
       "      <td>red</td>\n",
       "      <td>arms</td>\n",
       "      <td>False</td>\n",
       "      <td>Bug</td>\n",
       "      <td>NaN</td>\n",
       "      <td>80</td>\n",
       "      <td>70</td>\n",
       "      <td>40</td>\n",
       "      <td>145</td>\n",
       "    </tr>\n",
       "    <tr>\n",
       "      <td>aegislash</td>\n",
       "      <td>681</td>\n",
       "      <td>1.7</td>\n",
       "      <td>53.0</td>\n",
       "      <td>brown</td>\n",
       "      <td>blob</td>\n",
       "      <td>False</td>\n",
       "      <td>Steel</td>\n",
       "      <td>Ghost</td>\n",
       "      <td>60</td>\n",
       "      <td>50</td>\n",
       "      <td>150</td>\n",
       "      <td>60</td>\n",
       "    </tr>\n",
       "  </tbody>\n",
       "</table>\n",
       "</div>"
      ],
      "text/plain": [
       "            id  height  weight  color      shape  is baby   type 1 type 2  hp  \\\n",
       "name                                                                            \n",
       "abomasnow  460     2.2   135.5  white    upright    False    Grass    Ice  90   \n",
       "abra        63     0.9    19.5  brown    upright    False  Psychic    NaN  25   \n",
       "absol      359     1.2    47.0  white  quadruped    False     Dark    NaN  65   \n",
       "accelgor   617     0.8    25.3    red       arms    False      Bug    NaN  80   \n",
       "aegislash  681     1.7    53.0  brown       blob    False    Steel  Ghost  60   \n",
       "\n",
       "           attack  defense  speed  \n",
       "name                               \n",
       "abomasnow      92       75     60  \n",
       "abra           20       15     90  \n",
       "absol         130       60     75  \n",
       "accelgor       70       40    145  \n",
       "aegislash      50      150     60  "
      ]
     },
     "execution_count": 33,
     "metadata": {},
     "output_type": "execute_result"
    }
   ],
   "source": [
    "pokemoni.head()"
   ]
  },
  {
   "cell_type": "code",
   "execution_count": 34,
   "metadata": {},
   "outputs": [
    {
     "data": {
      "text/html": [
       "<div>\n",
       "<style scoped>\n",
       "    .dataframe tbody tr th:only-of-type {\n",
       "        vertical-align: middle;\n",
       "    }\n",
       "\n",
       "    .dataframe tbody tr th {\n",
       "        vertical-align: top;\n",
       "    }\n",
       "\n",
       "    .dataframe thead th {\n",
       "        text-align: right;\n",
       "    }\n",
       "</style>\n",
       "<table border=\"1\" class=\"dataframe\">\n",
       "  <thead>\n",
       "    <tr style=\"text-align: right;\">\n",
       "      <th></th>\n",
       "      <th>id</th>\n",
       "      <th>height</th>\n",
       "      <th>weight</th>\n",
       "      <th>color</th>\n",
       "      <th>shape</th>\n",
       "      <th>is baby</th>\n",
       "      <th>type 1</th>\n",
       "      <th>type 2</th>\n",
       "      <th>hp</th>\n",
       "      <th>attack</th>\n",
       "      <th>defense</th>\n",
       "      <th>speed</th>\n",
       "    </tr>\n",
       "    <tr>\n",
       "      <th>name</th>\n",
       "      <th></th>\n",
       "      <th></th>\n",
       "      <th></th>\n",
       "      <th></th>\n",
       "      <th></th>\n",
       "      <th></th>\n",
       "      <th></th>\n",
       "      <th></th>\n",
       "      <th></th>\n",
       "      <th></th>\n",
       "      <th></th>\n",
       "      <th></th>\n",
       "    </tr>\n",
       "  </thead>\n",
       "  <tbody>\n",
       "    <tr>\n",
       "      <td>zoroark</td>\n",
       "      <td>571</td>\n",
       "      <td>1.6</td>\n",
       "      <td>81.1</td>\n",
       "      <td>gray</td>\n",
       "      <td>upright</td>\n",
       "      <td>False</td>\n",
       "      <td>Dark</td>\n",
       "      <td>NaN</td>\n",
       "      <td>60</td>\n",
       "      <td>105</td>\n",
       "      <td>60</td>\n",
       "      <td>105</td>\n",
       "    </tr>\n",
       "    <tr>\n",
       "      <td>zorua</td>\n",
       "      <td>570</td>\n",
       "      <td>0.7</td>\n",
       "      <td>12.5</td>\n",
       "      <td>gray</td>\n",
       "      <td>quadruped</td>\n",
       "      <td>False</td>\n",
       "      <td>Dark</td>\n",
       "      <td>NaN</td>\n",
       "      <td>40</td>\n",
       "      <td>65</td>\n",
       "      <td>40</td>\n",
       "      <td>65</td>\n",
       "    </tr>\n",
       "    <tr>\n",
       "      <td>zubat</td>\n",
       "      <td>41</td>\n",
       "      <td>0.8</td>\n",
       "      <td>7.5</td>\n",
       "      <td>purple</td>\n",
       "      <td>wings</td>\n",
       "      <td>False</td>\n",
       "      <td>Poison</td>\n",
       "      <td>Flying</td>\n",
       "      <td>40</td>\n",
       "      <td>45</td>\n",
       "      <td>35</td>\n",
       "      <td>55</td>\n",
       "    </tr>\n",
       "    <tr>\n",
       "      <td>zweilous</td>\n",
       "      <td>634</td>\n",
       "      <td>1.4</td>\n",
       "      <td>50.0</td>\n",
       "      <td>blue</td>\n",
       "      <td>quadruped</td>\n",
       "      <td>False</td>\n",
       "      <td>Dark</td>\n",
       "      <td>Dragon</td>\n",
       "      <td>72</td>\n",
       "      <td>85</td>\n",
       "      <td>70</td>\n",
       "      <td>58</td>\n",
       "    </tr>\n",
       "    <tr>\n",
       "      <td>zygarde</td>\n",
       "      <td>718</td>\n",
       "      <td>5.0</td>\n",
       "      <td>305.0</td>\n",
       "      <td>green</td>\n",
       "      <td>squiggle</td>\n",
       "      <td>False</td>\n",
       "      <td>Dragon</td>\n",
       "      <td>Ground</td>\n",
       "      <td>108</td>\n",
       "      <td>100</td>\n",
       "      <td>121</td>\n",
       "      <td>95</td>\n",
       "    </tr>\n",
       "  </tbody>\n",
       "</table>\n",
       "</div>"
      ],
      "text/plain": [
       "           id  height  weight   color      shape  is baby  type 1  type 2  \\\n",
       "name                                                                        \n",
       "zoroark   571     1.6    81.1    gray    upright    False    Dark     NaN   \n",
       "zorua     570     0.7    12.5    gray  quadruped    False    Dark     NaN   \n",
       "zubat      41     0.8     7.5  purple      wings    False  Poison  Flying   \n",
       "zweilous  634     1.4    50.0    blue  quadruped    False    Dark  Dragon   \n",
       "zygarde   718     5.0   305.0   green   squiggle    False  Dragon  Ground   \n",
       "\n",
       "           hp  attack  defense  speed  \n",
       "name                                   \n",
       "zoroark    60     105       60    105  \n",
       "zorua      40      65       40     65  \n",
       "zubat      40      45       35     55  \n",
       "zweilous   72      85       70     58  \n",
       "zygarde   108     100      121     95  "
      ]
     },
     "execution_count": 34,
     "metadata": {},
     "output_type": "execute_result"
    }
   ],
   "source": [
    "pokemoni.tail()"
   ]
  },
  {
   "cell_type": "markdown",
   "metadata": {},
   "source": [
    "## Shrnutí\n",
    "\n",
    "V této lekci jsme si ukázali tři základní typy knihovny `pandas`:\n",
    "    \n",
    "* `Series` coby jednorozměrný objekt obsahující hodnoty stejného typu\n",
    "* `DataFrame` coby dvojrozměrná tabulka složená z více `Series`\n",
    "* `Index` coby zobecněný popis, jak přistupovat k prvkům `Series` nebo `DataFrame`\n",
    "\n",
    "V další lekci si ukážeme, jaké typy (přesněji \"dtypes\") lze v pandas použít, začneme počítat a vůbec napodobovat funkce tabulkových procesorů."
   ]
  }
 ],
 "metadata": {
  "kernel_info": {
   "name": "python3"
  },
  "kernelspec": {
   "display_name": "Python 3",
   "language": "python",
   "name": "python3"
  },
  "language_info": {
   "codemirror_mode": {
    "name": "ipython",
    "version": 3
   },
   "file_extension": ".py",
   "mimetype": "text/x-python",
   "name": "python",
   "nbconvert_exporter": "python",
   "pygments_lexer": "ipython3",
   "version": "3.7.3"
  },
  "nteract": {
   "version": "0.15.0"
  }
 },
 "nbformat": 4,
 "nbformat_minor": 2
}
