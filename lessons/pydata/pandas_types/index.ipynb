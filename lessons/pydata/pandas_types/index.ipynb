{
 "cells": [
  {
   "cell_type": "markdown",
   "metadata": {},
   "source": [
    "# Pandas - jak to funguje?\n",
    "\n",
    "V minulé lekci jsme si letem světem prohlédli základní nástroje knihovny `pandas` pro práci s tabulkami. Nyní se vrátíme k jednotlivým konceptům a pokusíme se je vysvětlit trochu více do hloubky, aby se ti s nimi lépe pracovalo. Především půjde o objekty typu `Series` a `DataFrame`."
   ]
  },
  {
   "cell_type": "code",
   "execution_count": 1,
   "metadata": {},
   "outputs": [],
   "source": [
    "import pandas as pd"
   ]
  },
  {
   "cell_type": "markdown",
   "metadata": {},
   "source": [
    "### Příprava - data\n",
    "\n",
    "V každé lekci se snažíme používat trochu jinou datavou sadu. V této se podíváme na některé zajímavé charakteristiky zemí kolem světa. "
   ]
  },
  {
   "cell_type": "code",
   "execution_count": 2,
   "metadata": {},
   "outputs": [],
   "source": [
    "# TODO: opravit podle toho, jak to bude\n",
    "\n",
    "url = \"https://raw.githubusercontent.com/janpipek/data-pro-pyladies/master/data/countries.csv\"\n",
    "countries = pd.read_csv(url)"
   ]
  },
  {
   "cell_type": "markdown",
   "metadata": {},
   "source": [
    "## Series\n",
    "\n",
    "Series (\"řada\") je jednorozměrné pole hodnot, něco jako seznam (`list`), který znáš ze samotného Pythonu. Liší se od něj především tím, že všechny jeho prvky jsou stejného druhu* (chtělo by se říci typu, ale je to složitější, viz níže) a že .\n",
    "\n",
    "V úvodní lekci"
   ]
  },
  {
   "cell_type": "code",
   "execution_count": 4,
   "metadata": {},
   "outputs": [
    {
     "data": {
      "text/plain": [
       "0    1\n",
       "1    2\n",
       "2    3\n",
       "dtype: int64"
      ]
     },
     "execution_count": 4,
     "metadata": {},
     "output_type": "execute_result"
    }
   ],
   "source": [
    "series = pd.Series([1, 2, 3])\n",
    "series"
   ]
  },
  {
   "cell_type": "code",
   "execution_count": 5,
   "metadata": {},
   "outputs": [
    {
     "data": {
      "text/plain": [
       "0    řetězec\n",
       "1          2\n",
       "2       True\n",
       "3          4\n",
       "dtype: object"
      ]
     },
     "execution_count": 5,
     "metadata": {},
     "output_type": "execute_result"
    }
   ],
   "source": [
    "series = pd.Series([\"řetězec\", 2, True, 4.0])\n",
    "series"
   ]
  },
  {
   "cell_type": "markdown",
   "metadata": {},
   "source": [
    "## Datové typy"
   ]
  },
  {
   "cell_type": "code",
   "execution_count": 3,
   "metadata": {},
   "outputs": [
    {
     "data": {
      "text/plain": [
       "name                                  object\n",
       "iso_alpha                             object\n",
       "world_6region                         object\n",
       "world_4region                         object\n",
       "income_groups                         object\n",
       "is_eu                                   bool\n",
       "is_oecd                                 bool\n",
       "is_g77                                  bool\n",
       "eu_accession                          object\n",
       "geo                                   object\n",
       "year                                   int64\n",
       "area                                 float64\n",
       "population                           float64\n",
       "alcohol_adults                       float64\n",
       "bmi_men                              float64\n",
       "bmi_women                            float64\n",
       "car_deaths_per_100000_people         float64\n",
       "co2_emissions_tonnes_per_person      float64\n",
       "calories_per_day                     float64\n",
       "income_share_of_poorest_10percent    float64\n",
       "income_share_of_richest_10percent    float64\n",
       "life_expectancy_years                float64\n",
       "dtype: object"
      ]
     },
     "execution_count": 3,
     "metadata": {},
     "output_type": "execute_result"
    }
   ],
   "source": [
    "countries.dtypes"
   ]
  },
  {
   "cell_type": "markdown",
   "metadata": {},
   "source": [
    "## Data Frames"
   ]
  },
  {
   "cell_type": "code",
   "execution_count": null,
   "metadata": {},
   "outputs": [],
   "source": [
    "- v některých jiných programovacích v"
   ]
  }
 ],
 "metadata": {
  "kernelspec": {
   "display_name": "Python 3",
   "language": "python",
   "name": "python3"
  },
  "language_info": {
   "codemirror_mode": {
    "name": "ipython",
    "version": 3
   },
   "file_extension": ".py",
   "mimetype": "text/x-python",
   "name": "python",
   "nbconvert_exporter": "python",
   "pygments_lexer": "ipython3",
   "version": "3.7.3"
  }
 },
 "nbformat": 4,
 "nbformat_minor": 2
}
