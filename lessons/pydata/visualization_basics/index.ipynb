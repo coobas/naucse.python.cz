{
 "cells": [
  {
   "cell_type": "markdown",
   "metadata": {},
   "source": [
    "# Základy vizualizace - v pandas a pro pandas\n",
    "\n",
    "Jeden obrázek (či graf) někdy dokáže říci více než tisíc slov. U (explorativní) datové analýzy to platí dvojnásob (A jako umí být manipulativní článek o tisíci slovech, o to manipulativnější umí být \"vhodně\" připravený graf).\n",
    "\n",
    "V této lekci si ukážeme, jak z dat, která už umíš načíst a se kterými provádíš mnohé aritmetické operace, vykreslíš některé základní typy grafů (sloupcový, spojnicový a bodový)."
   ]
  },
  {
   "cell_type": "markdown",
   "metadata": {},
   "source": [
    "## Rozmanitý svět vizualizačních knihoven v Pythonu\n",
    "\n",
    "Zatímco ohledně knihovny pro běžné zpracování tabulkových dat panuje shoda a při zkoumání malých až středně velkých dat nepříliš exotického typu téměř vždy analytici běžně sahají po `pandas`, knihoven pro vizualizaci dat existuje nepřeberné množství - každá má svoje výhody i nevýhody. My si během lekcí EDA zmíníme tyto tři (a budeme se soustředit především na to, jak je použít společně s pandas):\n",
    "\n",
    "- `matplotlib` - Toto je asi nejrozšířenější a v mnoha ohledech nejflexibilnější knihovna. Představuje výchozí volbu, pokud potřebuješ dobře vyhlížející statické grafy, které budou fungovat skoro všude. Značná flexibilita je vyvážena někdy ne zcela intuitivními jmény funkcí a argumentů. Pandas ji využívá interně (takže s trochou snahy můžeš předstírat, že o její existenci nevíš). Viz https://matplotlib.org/.\n",
    "\n",
    "- `seaborn` - Cílem této knihovny je pomoci zejména se statistickými grafy. Staví na matplotlibu, ale překrývá ho \"lidskou\" tváří. My s ním budeme pracovat při vizualizaci složitějších vztahů mezi více proměnnými. Viz https://seaborn.pydata.org/.\n",
    "\n",
    "- `plotly` (a zejména její podmnožina `plotly.express`) - Po této knihovně zejména sáhneš, budeš-li chtít do své vizualizace vložit interaktivitu. Ta se samozřejmě obtížně tiskne na papír, ale zejména při práci v Jupyter notebooku umožní vše zkoumat výrazně rychleji. Viz https://plot.ly/python/.\n",
    "\n",
    "Pro zájemce o bližší vysvětlení doporučujeme podívat se na (již poněkud starší) video od J. Vanderplase: Python Visualizations' Landscape (https://www.youtube.com/watch?v=FytuB8nFHPQ), které shrnuje základní vlastnosti jednotlivých knihoven.\n"
   ]
  },
  {
   "cell_type": "code",
   "execution_count": null,
   "metadata": {},
   "outputs": [],
   "source": [
    "%matplotlib inline\n",
    "\n",
    "# Co to má znamenat!?"
   ]
  },
  {
   "cell_type": "markdown",
   "metadata": {},
   "source": [
    "Jestli ses dosud tvářil/a, že nevíš o existenci matplotlibu, teď už nemůžeš :-). Tato mysteriózní řádka (ve skutečnosti \"IPython magic command\") říká, že všechny grafy se automaticky vykreslí přímo do notebooku (to vůbec není samozřejmé a lekcdy to ani nechceme - třeba když chceme grafy ukládat rovnou do souboru nebo interaktivně mimo notebook).\n",
    "\n",
    "Více viz https://ipython.readthedocs.io/en/stable/interactive/magics.html#magic-matplotlib.\n"
   ]
  },
  {
   "cell_type": "markdown",
   "metadata": {},
   "source": [
    "## Příprava - zdroj dat\n",
    "\n",
    "Nejdříve si načteme nám již známá data se zeměmi světa. Přidáme k tomu i tabulku s vývojem některých ukazatelů v čase pro Českou republiku."
   ]
  },
  {
   "cell_type": "code",
   "execution_count": null,
   "metadata": {},
   "outputs": [],
   "source": [
    "import pandas as pd\n",
    "\n",
    "# TODO: opravit podle toho, jak to bude\n",
    "\n",
    "# Světová data\n",
    "url = \"https://raw.githubusercontent.com/janpipek/data-pro-pyladies/master/data/countries.csv\"\n",
    "countries = pd.read_csv(url).set_index(\"name\")\n",
    "\n",
    "# Česká data\n",
    "url = \"https://raw.githubusercontent.com/janpipek/data-pro-pyladies/master/data/cze.csv\"\n",
    "czech = pd.read_csv(url)"
   ]
  },
  {
   "cell_type": "markdown",
   "metadata": {},
   "source": [
    "## Sloupcový graf (bar plot)\n",
    "\n",
    "Úplně nejjednodušší graf, který můžeš vytvořit, je **sloupcový**. Vedle sebe postupně zobrazíš sloupečky vysoké podle vlastnosti, která tě zajímá. Ukazuje hodnoty jedné proměnné, aniž by je jakýmkoliv způsobem statisticky zpracovával nebo porovnával s proměnnou jinou.\n",
    "\n",
    "V `pandas` se k funkcím pro kreslení grafů přistupuje pomocí tzv. **accessoru** `.plot`. To je hybridní objekt, který lze volat jako metodu (`Series.plot()` - použije výchozí typ grafu), anebo lze pomocí další tečky odkazovat na jeho vlastní metody, které kreslí různé typy grafů. Z \"pedagogických důvodů\" (které bývají leckdy nepochopitelné) chceme začít od sloupcového grafu, který výchozí není, a tak voláme `Series.plot.bar()`."
   ]
  },
  {
   "cell_type": "code",
   "execution_count": null,
   "metadata": {
    "scrolled": true
   },
   "outputs": [],
   "source": [
    "countries[\"life_expectancy\"].plot.bar()"
   ]
  },
  {
   "cell_type": "markdown",
   "metadata": {},
   "source": [
    "Uf, to nevypadá úplně nejpřehledněji. Zkusme totéž, jen pro země Evropské Unie (kterých bylo v době psaní materiálu i zahájení kurzu stále ještě 28)."
   ]
  },
  {
   "cell_type": "code",
   "execution_count": null,
   "metadata": {},
   "outputs": [],
   "source": [
    "eu_countries = countries.query(\"is_eu\")    # Filtrování\n",
    "eu_countries[\"life_expectancy\"].plot.bar();"
   ]
  },
  {
   "cell_type": "markdown",
   "metadata": {},
   "source": [
    "To se neporovnává úplně snadno - dožívají se lidé více ve Spojeném Království nebo v Německu? Co kdybychom (opakování z minula) hodnoty seřadili a teprve pak zobrazili?"
   ]
  },
  {
   "cell_type": "code",
   "execution_count": null,
   "metadata": {},
   "outputs": [],
   "source": [
    "eu_countries[\"life_expectancy\"].sort_values(ascending=False).plot.bar();"
   ]
  },
  {
   "cell_type": "markdown",
   "metadata": {},
   "source": [
    "A vlastně musíme kroutit hlavou, když chceme najit svoji (nebo někoho jiného domovinu). Můžeme zkusit horizontální sloupcový graf, `.plot.barh`:"
   ]
  },
  {
   "cell_type": "code",
   "execution_count": null,
   "metadata": {},
   "outputs": [],
   "source": [
    "eu_countries[\"life_expectancy\"].sort_values(ascending=False).plot.barh();"
   ]
  },
  {
   "cell_type": "markdown",
   "metadata": {},
   "source": [
    "Funkce pro kreslení grafů nabízejí spoustu parametrů, které nejsou úplně dobře zdokumentované a jsou dost úzce svázány s tím, jak funguje knihovna `matplotlib`. Budeme si je postupně ukazovat, když nám přijdou vhod. Náš graf by se nám hodilo trošku zvětšit na výšku. Také se hodnoty od sebe příliš neliší a nastavení vlastního rozsahu na ose x by pomohlo rozdíly zvýraznit. Plus si přidáme trošku formátování.\n",
    "\n",
    "- `figsize` specifikuje velikost grafu jako n-tici (tuple) velikosti v palcích v pořadí (šířka, výška). Při volbě ideální hodnoty si prostě v notebooku zaexperimentuj.\n",
    "- `xlim` specifikuje rozsah hodnot na ose x v podobně ntice (minimum, maximum)\n",
    "- `color` specifikuje barvu: může jít o název či o hexadecimální RGB zápis\n",
    "- `edgecolor` říká, jakou barvou mají být sloupce ohraničeny\n",
    "- `title` nastavuje titulek celého grafu"
   ]
  },
  {
   "cell_type": "code",
   "execution_count": null,
   "metadata": {},
   "outputs": [],
   "source": [
    "eu_countries[\"life_expectancy\"].sort_values().plot.barh(\n",
    "    figsize=(6, 8),\n",
    "    xlim=(75, 85),\n",
    "    color=\"yellow\",\n",
    "    edgecolor=\"#888888\",   # střední šeď\n",
    "    title=\"Očekávaná doba dožití (roky)\"\n",
    ");"
   ]
  },
  {
   "cell_type": "markdown",
   "metadata": {},
   "source": [
    "💡 Začínat sloupcové (ale i mnohé další) grafy jinde než u nuly ti pomůže všimnout si i nepatrných rozdílů, a proto v explorativní fázi je to určitě dobrý nápad. Ovšem při prezentaci výsledků mohou zvýrazněné rozdíly mást publikum a budit dojem, že nějaký efekt je výrazně silnější než ve skutečnosti. Manipulační efekt je tím silnější, čím méně intuitivní jsou prezentovaná data. V tomto případě by asi málokdo uvěřil, že ve Španělsku žijí lidé šedesátkrát déle než v Lotyšsku, protože to neodpovídá běžnému očekávání, ale i tak na první pohled situace vypadá velice dramaticky (necháváme ti na posouzení, jestli rozdíl mezi 75 a 83, neboli cca 10 % je obrovský či nikoliv). Novináři takto matou poměrně často - ať už úmyslně, nebo omylem."
   ]
  },
  {
   "cell_type": "markdown",
   "metadata": {},
   "source": [
    "V grafu ovšem můžeme velice snadno zobrazit více veličin. Stačí místo jednoho sloupce dodat sloupců více (například výběrem z `DataFrame`) a pro každý řádek se nám zobrazí více sloupečků pod sebou.\n",
    "\n",
    "V našem případě se podíváme na to, kolika let se dožívají muži a ženy zvlášť. Zvolíme genderově stereotypní barvy (ono je to někdy přehlednější), ale ty si je samozřejmě můžeš upravit podle libosti."
   ]
  },
  {
   "cell_type": "code",
   "execution_count": null,
   "metadata": {},
   "outputs": [],
   "source": [
    "eu_countries.sort_values(\"life_expectancy\")[[\"life_expectancy_male\", \"life_expectancy_female\"]].plot.barh(\n",
    "    figsize=(8, 14),\n",
    "    xlim=(68, 88),\n",
    "    color=[\"blue\", \"red\"],\n",
    "    edgecolor=\"#888888\",   # střední šeď\n",
    "    title=\"Očekávaná doba dožití (roky)\"\n",
    ");"
   ]
  },
  {
   "cell_type": "markdown",
   "metadata": {},
   "source": [
    "**Úkol:** Zkus si nakreslit sloupcový graf některé z dalších charakteristik (\"sloupců\") zemí (ať už evropských, nebo filtrováním přes nějaký region) a zamysli se nad tím, jakou výpovědní hodnotu takový graf má (někdy prachbídnou)."
   ]
  },
  {
   "cell_type": "markdown",
   "metadata": {},
   "source": [
    "## Bodový graf (scatter plot)\n",
    "\n",
    "Bodový graf je nejjednodušším způsobem, jak porovnat dvě různé veličiny. V soustavě souřadníc, jak se používá v matematice, každému řádku odpovídá jeden bod, hodnoty dvou sloupců pak kódují souřadnici `x` a `y`. To se odráží i ve způsobu, jak bodový graf v `pandas` vytváříme.\n",
    "\n",
    "Zavoláme metodu `plot.scatter` naší tabulky a dodáme jí coby argumenty `x` a `y` jména sloupců, která se pro souřadnice mají použít:"
   ]
  },
  {
   "cell_type": "code",
   "execution_count": null,
   "metadata": {},
   "outputs": [],
   "source": [
    "# Souvislost mezi pitím a střední dobou života\n",
    "countries.plot.scatter(\n",
    "    x=\"life_expectancy\",\n",
    "    y=\"alcohol_adults\");"
   ]
  },
  {
   "cell_type": "markdown",
   "metadata": {},
   "source": [
    "💡 O kauzalitách, korelacích a souvislostech mezi veličinami si budeme povídat jindy, ale taky se nemůžeš ubránit dojmu, že čím více se někde pije, tím déle se tam žije?"
   ]
  },
  {
   "cell_type": "markdown",
   "metadata": {},
   "source": [
    "**Úkol:** Vyzkoušej si zobrazení některých dalších dvojic veličin. Které z nich ukazují zajímavé výsledky?"
   ]
  },
  {
   "cell_type": "markdown",
   "metadata": {},
   "source": [
    "## Spojnicový graf (line plot)\n",
    "\n",
    "Tento druh grafu má smysl zejména tehdy, pokud se nějaká proměnná vyvíjí spojitě v závislosti na proměnné jiné. Časové řady jsou pro to skvělým příkladem (ať už pro vztah mezi časem a veličinou, anebo dvěma veličinami, které se vyvíjejí společně).\n",
    "\n"
   ]
  },
  {
   "cell_type": "code",
   "execution_count": null,
   "metadata": {},
   "outputs": [],
   "source": [
    "czech.plot.line(x=\"year\", y=\"life_expectancy\")"
   ]
  },
  {
   "cell_type": "code",
   "execution_count": null,
   "metadata": {},
   "outputs": [],
   "source": [
    "czech.plot(x=\"year\", y=[\"life_expectancy_male\", \"life_expectancy_female\"])"
   ]
  },
  {
   "cell_type": "code",
   "execution_count": null,
   "metadata": {},
   "outputs": [],
   "source": [
    "czech.plot.line(x=\"year\", y=[\"bmi_men\", \"bmi_women\"], lw=7, style=\"--\");"
   ]
  },
  {
   "cell_type": "markdown",
   "metadata": {},
   "source": [
    "Naopak nemá moc smysl pomocí čárový graf používat v případě, že na sobě dvě proměnné nejsou přímo závislé, nebo se nevyvíjí společně. Zkus například na,a"
   ]
  },
  {
   "cell_type": "code",
   "execution_count": null,
   "metadata": {},
   "outputs": [],
   "source": [
    "countries.plot.line(x=\"life_expectancy\", y=\"alcohol_adults\")"
   ]
  },
  {
   "cell_type": "markdown",
   "metadata": {},
   "source": [
    "Můžeš namítnout, že "
   ]
  },
  {
   "cell_type": "code",
   "execution_count": null,
   "metadata": {},
   "outputs": [],
   "source": [
    "sorted_countries = countries.sort_values(\"life_expectancy\")\n",
    "sorted_countries.plot.line(x=\"life_expectancy\", y=\"alcohol_adults\")\n",
    "sorted_countries[[\"life_expectancy\", \"alcohol_adults\"]]"
   ]
  },
  {
   "cell_type": "markdown",
   "metadata": {},
   "source": [
    "Dává to smysl? Zdá se, že ne. Ono totiž "
   ]
  },
  {
   "cell_type": "code",
   "execution_count": null,
   "metadata": {},
   "outputs": [],
   "source": []
  },
  {
   "cell_type": "markdown",
   "metadata": {},
   "source": [
    "## Bonus 2: seaborn\n",
    "\n",
    "Složitou statistikou jsme se zatím nezabývali, a tak si zatím vystačíme s něčím opravdu jednoduchým."
   ]
  },
  {
   "cell_type": "code",
   "execution_count": null,
   "metadata": {},
   "outputs": [],
   "source": [
    "import matplotlib.pyplot as plt\n",
    "import seaborn as sns\n",
    "\n",
    "fig, ax = plt.subplots(figsize=(8,8))\n",
    "\n",
    "# TODO: změnit\n",
    "sns.scatterplot(\n",
    "    data=countries,\n",
    "    x=\"alcohol_adults\",\n",
    "    y=\"life_expectancy\",\n",
    "    size=\"population\",\n",
    "    hue=\"world_4region\"\n",
    ");"
   ]
  },
  {
   "cell_type": "markdown",
   "metadata": {},
   "source": [
    "Mnoho ukázkových vizualací najdeš na stránkách samotného projektu: https://seaborn.pydata.org/examples/index.html"
   ]
  },
  {
   "cell_type": "markdown",
   "metadata": {},
   "source": [
    "## Bonus 3: plotly.(express)"
   ]
  },
  {
   "cell_type": "code",
   "execution_count": null,
   "metadata": {},
   "outputs": [],
   "source": [
    "import plotly.express as px\n",
    "\n",
    "px.scatter(\n",
    "    countries.reset_index(),\n",
    "    x=\"alcohol_adults\",\n",
    "    y=\"life_expectancy\",\n",
    "    size=\"population\",\n",
    "    color=\"world_4region\",\n",
    "    hover_name=\"name\"\n",
    ")"
   ]
  },
  {
   "cell_type": "code",
   "execution_count": null,
   "metadata": {},
   "outputs": [],
   "source": [
    "px.choropleth(countries.reset_index(), locations=\"iso\", color=\"life_expectancy\", hover_name=\"name\")"
   ]
  },
  {
   "cell_type": "code",
   "execution_count": null,
   "metadata": {},
   "outputs": [],
   "source": [
    "https://plot.ly/python/plotly-express/"
   ]
  }
 ],
 "metadata": {
  "kernelspec": {
   "display_name": "Python 3",
   "language": "python",
   "name": "python3"
  },
  "language_info": {
   "codemirror_mode": {
    "name": "ipython",
    "version": 3
   },
   "file_extension": ".py",
   "mimetype": "text/x-python",
   "name": "python",
   "nbconvert_exporter": "python",
   "pygments_lexer": "ipython3",
   "version": "3.7.3"
  }
 },
 "nbformat": 4,
 "nbformat_minor": 2
}
